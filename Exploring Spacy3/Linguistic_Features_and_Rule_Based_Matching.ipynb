{
  "nbformat": 4,
  "nbformat_minor": 0,
  "metadata": {
    "colab": {
      "name": "Spacy Features.ipynb",
      "provenance": [],
      "collapsed_sections": []
    },
    "kernelspec": {
      "display_name": "Python 3",
      "name": "python3"
    },
    "language_info": {
      "name": "python"
    }
  },
  "cells": [
    {
      "cell_type": "markdown",
      "metadata": {
        "id": "mwbb5IvNfqi7"
      },
      "source": [
        "### Linguistic Features"
      ]
    },
    {
      "cell_type": "code",
      "metadata": {
        "id": "sutS0dAj79S6"
      },
      "source": [
        "!python -m spacy download en_core_web_md"
      ],
      "execution_count": null,
      "outputs": []
    },
    {
      "cell_type": "markdown",
      "metadata": {
        "id": "3xY1K-Kv9J8B"
      },
      "source": [
        "### POS Tagging"
      ]
    },
    {
      "cell_type": "code",
      "metadata": {
        "colab": {
          "base_uri": "https://localhost:8080/"
        },
        "id": "NQfxZmSi7smo",
        "outputId": "364c0db4-b517-4327-a3a3-e704d8a557aa"
      },
      "source": [
        "import spacy\n",
        "\n",
        "nlp = spacy.load('en_core_web_md')\n",
        "\n",
        "doc = nlp(\"Alicia and me went to the school by bus\")\n",
        "for token in doc:\n",
        "    print(token.text, token.pos_, token.tag_, spacy.explain(token.pos_), spacy.explain(token.tag_))"
      ],
      "execution_count": 2,
      "outputs": [
        {
          "output_type": "stream",
          "name": "stdout",
          "text": [
            "Alicia PROPN NNP proper noun noun, proper singular\n",
            "and CCONJ CC coordinating conjunction conjunction, coordinating\n",
            "me PRON PRP pronoun pronoun, personal\n",
            "went VERB VBD verb verb, past tense\n",
            "to ADP IN adposition conjunction, subordinating or preposition\n",
            "the DET DT determiner determiner\n",
            "school NOUN NN noun noun, singular or mass\n",
            "by ADP IN adposition conjunction, subordinating or preposition\n",
            "bus NOUN NN noun noun, singular or mass\n"
          ]
        }
      ]
    },
    {
      "cell_type": "code",
      "metadata": {
        "colab": {
          "base_uri": "https://localhost:8080/"
        },
        "id": "wcgzhVGs8gnP",
        "outputId": "a68b43ef-e336-40e4-adb1-300dd2988356"
      },
      "source": [
        "doc = nlp(\"My friend will fly to New York fast and she is staying there for 3 days.\")\n",
        "for token in doc:\n",
        "    print(token.text, token.pos_, token.tag_, spacy.explain(token.pos_), spacy.explain(token.tag_))"
      ],
      "execution_count": 3,
      "outputs": [
        {
          "output_type": "stream",
          "name": "stdout",
          "text": [
            "My PRON PRP$ pronoun pronoun, possessive\n",
            "friend NOUN NN noun noun, singular or mass\n",
            "will AUX MD auxiliary verb, modal auxiliary\n",
            "fly VERB VB verb verb, base form\n",
            "to ADP IN adposition conjunction, subordinating or preposition\n",
            "New PROPN NNP proper noun noun, proper singular\n",
            "York PROPN NNP proper noun noun, proper singular\n",
            "fast ADV RB adverb adverb\n",
            "and CCONJ CC coordinating conjunction conjunction, coordinating\n",
            "she PRON PRP pronoun pronoun, personal\n",
            "is AUX VBZ auxiliary verb, 3rd person singular present\n",
            "staying VERB VBG verb verb, gerund or present participle\n",
            "there ADV RB adverb adverb\n",
            "for ADP IN adposition conjunction, subordinating or preposition\n",
            "3 NUM CD numeral cardinal number\n",
            "days NOUN NNS noun noun, plural\n",
            ". PUNCT . punctuation punctuation mark, sentence closer\n"
          ]
        }
      ]
    },
    {
      "cell_type": "code",
      "metadata": {
        "colab": {
          "base_uri": "https://localhost:8080/"
        },
        "id": "YDv-ino7BIyY",
        "outputId": "55d3d014-90c4-42fc-8cd4-dad4acea7f4d"
      },
      "source": [
        "doc = nlp(\"My cat will fish for a fish tomorrow in a fishy way.\")\n",
        "for token in doc:\n",
        "    print(token.text, token.pos_, token.tag_, spacy.explain(token.pos_), spacy.explain(token.tag_))"
      ],
      "execution_count": 4,
      "outputs": [
        {
          "output_type": "stream",
          "name": "stdout",
          "text": [
            "My PRON PRP$ pronoun pronoun, possessive\n",
            "cat NOUN NN noun noun, singular or mass\n",
            "will AUX MD auxiliary verb, modal auxiliary\n",
            "fish VERB VB verb verb, base form\n",
            "for ADP IN adposition conjunction, subordinating or preposition\n",
            "a DET DT determiner determiner\n",
            "fish NOUN NN noun noun, singular or mass\n",
            "tomorrow NOUN NN noun noun, singular or mass\n",
            "in ADP IN adposition conjunction, subordinating or preposition\n",
            "a DET DT determiner determiner\n",
            "fishy ADJ JJ adjective adjective (English), other noun-modifier (Chinese)\n",
            "way NOUN NN noun noun, singular or mass\n",
            ". PUNCT . punctuation punctuation mark, sentence closer\n"
          ]
        }
      ]
    },
    {
      "cell_type": "code",
      "metadata": {
        "colab": {
          "base_uri": "https://localhost:8080/"
        },
        "id": "fTRX6GxVBpJ4",
        "outputId": "ac7a3314-3737-4b00-b6e1-95c5dbea8387"
      },
      "source": [
        "doc = nlp(\"He earned $5.5 million in 2020 and paid %35 tax.\")\n",
        "for token in doc:\n",
        "    print(token.text, token.pos_, token.tag_, spacy.explain(token.pos_), spacy.explain(token.tag_))"
      ],
      "execution_count": 5,
      "outputs": [
        {
          "output_type": "stream",
          "name": "stdout",
          "text": [
            "He PRON PRP pronoun pronoun, personal\n",
            "earned VERB VBD verb verb, past tense\n",
            "$ SYM $ symbol symbol, currency\n",
            "5.5 NUM CD numeral cardinal number\n",
            "million NUM CD numeral cardinal number\n",
            "in ADP IN adposition conjunction, subordinating or preposition\n",
            "2020 NUM CD numeral cardinal number\n",
            "and CCONJ CC coordinating conjunction conjunction, coordinating\n",
            "paid VERB VBD verb verb, past tense\n",
            "% NOUN NN noun noun, singular or mass\n",
            "35 NUM CD numeral cardinal number\n",
            "tax NOUN NN noun noun, singular or mass\n",
            ". PUNCT . punctuation punctuation mark, sentence closer\n"
          ]
        }
      ]
    },
    {
      "cell_type": "markdown",
      "metadata": {
        "id": "UZe8X3joIlqH"
      },
      "source": [
        "### Dependency"
      ]
    },
    {
      "cell_type": "code",
      "metadata": {
        "colab": {
          "base_uri": "https://localhost:8080/"
        },
        "id": "2UNaLH9QBwpQ",
        "outputId": "f5aaed13-8f16-4ad2-eb87-194cc23312da"
      },
      "source": [
        "doc = nlp(\"I counted white sheep.\")\n",
        "for token in doc:\n",
        "    print(token.text, token.pos_, token.tag_, token.dep_, token.head)"
      ],
      "execution_count": 6,
      "outputs": [
        {
          "output_type": "stream",
          "name": "stdout",
          "text": [
            "I PRON PRP nsubj counted\n",
            "counted VERB VBD ROOT counted\n",
            "white ADJ JJ amod sheep\n",
            "sheep NOUN NNS dobj counted\n",
            ". PUNCT . punct counted\n"
          ]
        }
      ]
    },
    {
      "cell_type": "code",
      "metadata": {
        "colab": {
          "base_uri": "https://localhost:8080/",
          "height": 333
        },
        "id": "Fao21VZuD6N_",
        "outputId": "633503dd-fb93-41bc-d643-7bbff0977336"
      },
      "source": [
        "from spacy import displacy\n",
        "\n",
        "displacy.render(doc, jupyter=True, style='dep')"
      ],
      "execution_count": 7,
      "outputs": [
        {
          "output_type": "display_data",
          "data": {
            "text/html": [
              "<span class=\"tex2jax_ignore\"><svg xmlns=\"http://www.w3.org/2000/svg\" xmlns:xlink=\"http://www.w3.org/1999/xlink\" xml:lang=\"en\" id=\"badaae3d712a4bf5a6ce505e8a6cc6a7-0\" class=\"displacy\" width=\"750\" height=\"312.0\" direction=\"ltr\" style=\"max-width: none; height: 312.0px; color: #000000; background: #ffffff; font-family: Arial; direction: ltr\">\n",
              "<text class=\"displacy-token\" fill=\"currentColor\" text-anchor=\"middle\" y=\"222.0\">\n",
              "    <tspan class=\"displacy-word\" fill=\"currentColor\" x=\"50\">I</tspan>\n",
              "    <tspan class=\"displacy-tag\" dy=\"2em\" fill=\"currentColor\" x=\"50\">PRON</tspan>\n",
              "</text>\n",
              "\n",
              "<text class=\"displacy-token\" fill=\"currentColor\" text-anchor=\"middle\" y=\"222.0\">\n",
              "    <tspan class=\"displacy-word\" fill=\"currentColor\" x=\"225\">counted</tspan>\n",
              "    <tspan class=\"displacy-tag\" dy=\"2em\" fill=\"currentColor\" x=\"225\">VERB</tspan>\n",
              "</text>\n",
              "\n",
              "<text class=\"displacy-token\" fill=\"currentColor\" text-anchor=\"middle\" y=\"222.0\">\n",
              "    <tspan class=\"displacy-word\" fill=\"currentColor\" x=\"400\">white</tspan>\n",
              "    <tspan class=\"displacy-tag\" dy=\"2em\" fill=\"currentColor\" x=\"400\">ADJ</tspan>\n",
              "</text>\n",
              "\n",
              "<text class=\"displacy-token\" fill=\"currentColor\" text-anchor=\"middle\" y=\"222.0\">\n",
              "    <tspan class=\"displacy-word\" fill=\"currentColor\" x=\"575\">sheep.</tspan>\n",
              "    <tspan class=\"displacy-tag\" dy=\"2em\" fill=\"currentColor\" x=\"575\">NOUN</tspan>\n",
              "</text>\n",
              "\n",
              "<g class=\"displacy-arrow\">\n",
              "    <path class=\"displacy-arc\" id=\"arrow-badaae3d712a4bf5a6ce505e8a6cc6a7-0-0\" stroke-width=\"2px\" d=\"M70,177.0 C70,89.5 220.0,89.5 220.0,177.0\" fill=\"none\" stroke=\"currentColor\"/>\n",
              "    <text dy=\"1.25em\" style=\"font-size: 0.8em; letter-spacing: 1px\">\n",
              "        <textPath xlink:href=\"#arrow-badaae3d712a4bf5a6ce505e8a6cc6a7-0-0\" class=\"displacy-label\" startOffset=\"50%\" side=\"left\" fill=\"currentColor\" text-anchor=\"middle\">nsubj</textPath>\n",
              "    </text>\n",
              "    <path class=\"displacy-arrowhead\" d=\"M70,179.0 L62,167.0 78,167.0\" fill=\"currentColor\"/>\n",
              "</g>\n",
              "\n",
              "<g class=\"displacy-arrow\">\n",
              "    <path class=\"displacy-arc\" id=\"arrow-badaae3d712a4bf5a6ce505e8a6cc6a7-0-1\" stroke-width=\"2px\" d=\"M420,177.0 C420,89.5 570.0,89.5 570.0,177.0\" fill=\"none\" stroke=\"currentColor\"/>\n",
              "    <text dy=\"1.25em\" style=\"font-size: 0.8em; letter-spacing: 1px\">\n",
              "        <textPath xlink:href=\"#arrow-badaae3d712a4bf5a6ce505e8a6cc6a7-0-1\" class=\"displacy-label\" startOffset=\"50%\" side=\"left\" fill=\"currentColor\" text-anchor=\"middle\">amod</textPath>\n",
              "    </text>\n",
              "    <path class=\"displacy-arrowhead\" d=\"M420,179.0 L412,167.0 428,167.0\" fill=\"currentColor\"/>\n",
              "</g>\n",
              "\n",
              "<g class=\"displacy-arrow\">\n",
              "    <path class=\"displacy-arc\" id=\"arrow-badaae3d712a4bf5a6ce505e8a6cc6a7-0-2\" stroke-width=\"2px\" d=\"M245,177.0 C245,2.0 575.0,2.0 575.0,177.0\" fill=\"none\" stroke=\"currentColor\"/>\n",
              "    <text dy=\"1.25em\" style=\"font-size: 0.8em; letter-spacing: 1px\">\n",
              "        <textPath xlink:href=\"#arrow-badaae3d712a4bf5a6ce505e8a6cc6a7-0-2\" class=\"displacy-label\" startOffset=\"50%\" side=\"left\" fill=\"currentColor\" text-anchor=\"middle\">dobj</textPath>\n",
              "    </text>\n",
              "    <path class=\"displacy-arrowhead\" d=\"M575.0,179.0 L583.0,167.0 567.0,167.0\" fill=\"currentColor\"/>\n",
              "</g>\n",
              "</svg></span>"
            ],
            "text/plain": [
              "<IPython.core.display.HTML object>"
            ]
          },
          "metadata": {}
        }
      ]
    },
    {
      "cell_type": "markdown",
      "metadata": {
        "id": "D4ouMGaYMFNI"
      },
      "source": [
        "### NER"
      ]
    },
    {
      "cell_type": "code",
      "metadata": {
        "colab": {
          "base_uri": "https://localhost:8080/"
        },
        "id": "BvlUQk3DHE_I",
        "outputId": "2db11533-4f02-4d8a-90ef-2512fea37e0b"
      },
      "source": [
        "doc = nlp(\"The president Donald Trump visited France.\")\n",
        "print(doc.ents)\n",
        "print(type(doc.ents[1]))\n"
      ],
      "execution_count": 8,
      "outputs": [
        {
          "output_type": "stream",
          "name": "stdout",
          "text": [
            "(Donald Trump, France)\n",
            "<class 'spacy.tokens.span.Span'>\n"
          ]
        }
      ]
    },
    {
      "cell_type": "code",
      "metadata": {
        "colab": {
          "base_uri": "https://localhost:8080/"
        },
        "id": "fHLqgu5oHqY4",
        "outputId": "3ab4161b-376c-4f9e-ca47-ca525a240cf3"
      },
      "source": [
        "print(spacy.explain(\"ORG\"))"
      ],
      "execution_count": 9,
      "outputs": [
        {
          "output_type": "stream",
          "name": "stdout",
          "text": [
            "Companies, agencies, institutions, etc.\n"
          ]
        }
      ]
    },
    {
      "cell_type": "code",
      "metadata": {
        "colab": {
          "base_uri": "https://localhost:8080/"
        },
        "id": "NdkF5cHPHweQ",
        "outputId": "7649724c-c318-4135-f7d4-8ff6f9dee51a"
      },
      "source": [
        "doc2 = nlp(\"He worked for NASA\")\n",
        "token = doc2[3]\n",
        "print(token.text, token.ent_type_, spacy.explain(token.ent_type_))"
      ],
      "execution_count": 10,
      "outputs": [
        {
          "output_type": "stream",
          "name": "stdout",
          "text": [
            "NASA ORG Companies, agencies, institutions, etc.\n"
          ]
        }
      ]
    },
    {
      "cell_type": "code",
      "metadata": {
        "colab": {
          "base_uri": "https://localhost:8080/"
        },
        "id": "hTTeY5jyH1Fn",
        "outputId": "b3a07fba-e175-49fe-f750-dcbe80e8c3ae"
      },
      "source": [
        "doc3 = nlp(\"“Albert Einstein was born in Ulm on 1987. He studied electronical engineering at ETH Zurich.\")\n",
        "print(doc3.ents)"
      ],
      "execution_count": 11,
      "outputs": [
        {
          "output_type": "stream",
          "name": "stdout",
          "text": [
            "(Albert Einstein, Ulm, 1987, ETH Zurich)\n"
          ]
        }
      ]
    },
    {
      "cell_type": "code",
      "metadata": {
        "colab": {
          "base_uri": "https://localhost:8080/"
        },
        "id": "BvVWJbU4ICf_",
        "outputId": "2af1bc9b-adf9-42f1-f3ce-02f64359c259"
      },
      "source": [
        "for token in doc3:\n",
        "    print(token.text, token.ent_type_, spacy.explain(token.ent_type_))"
      ],
      "execution_count": 12,
      "outputs": [
        {
          "output_type": "stream",
          "name": "stdout",
          "text": [
            "“  None\n",
            "Albert PERSON People, including fictional\n",
            "Einstein PERSON People, including fictional\n",
            "was  None\n",
            "born  None\n",
            "in  None\n",
            "Ulm GPE Countries, cities, states\n",
            "on  None\n",
            "1987 DATE Absolute or relative dates or periods\n",
            ".  None\n",
            "He  None\n",
            "studied  None\n",
            "electronical  None\n",
            "engineering  None\n",
            "at  None\n",
            "ETH ORG Companies, agencies, institutions, etc.\n",
            "Zurich ORG Companies, agencies, institutions, etc.\n",
            ".  None\n"
          ]
        }
      ]
    },
    {
      "cell_type": "markdown",
      "metadata": {
        "id": "iLT3J4BxPeUP"
      },
      "source": [
        "### Merging-Splitting-Merge"
      ]
    },
    {
      "cell_type": "code",
      "metadata": {
        "colab": {
          "base_uri": "https://localhost:8080/"
        },
        "id": "glXWsaHPIPGn",
        "outputId": "090c7e9b-64f8-45ef-a14c-352d56f607c4"
      },
      "source": [
        "doc = nlp(\"She lived in New Hampshire.\")\n",
        "print(doc.ents)\n",
        "print([(token.text, token.i) for token in doc])\n",
        "print(len(doc))"
      ],
      "execution_count": 13,
      "outputs": [
        {
          "output_type": "stream",
          "name": "stdout",
          "text": [
            "(New Hampshire,)\n",
            "[('She', 0), ('lived', 1), ('in', 2), ('New', 3), ('Hampshire', 4), ('.', 5)]\n",
            "6\n"
          ]
        }
      ]
    },
    {
      "cell_type": "code",
      "metadata": {
        "id": "Bod5QVkwOmz2"
      },
      "source": [
        "with doc.retokenize() as retokenizer:\n",
        "    retokenizer.merge(doc[3:5], attrs={\"LEMMA\":\"new hampshire\"})"
      ],
      "execution_count": 14,
      "outputs": []
    },
    {
      "cell_type": "code",
      "metadata": {
        "colab": {
          "base_uri": "https://localhost:8080/"
        },
        "id": "S974ZYSkPGjv",
        "outputId": "ab66646b-4116-44c1-e992-fd1c67542b97"
      },
      "source": [
        "print(doc.ents)\n",
        "print([(token.text, token.i) for token in doc])"
      ],
      "execution_count": 15,
      "outputs": [
        {
          "output_type": "stream",
          "name": "stdout",
          "text": [
            "(New Hampshire,)\n",
            "[('She', 0), ('lived', 1), ('in', 2), ('New Hampshire', 3), ('.', 4)]\n"
          ]
        }
      ]
    },
    {
      "cell_type": "code",
      "metadata": {
        "colab": {
          "base_uri": "https://localhost:8080/"
        },
        "id": "g0L2tZaNPK8X",
        "outputId": "dd6feed4-e966-4a8f-a7d9-68b92c0f139f"
      },
      "source": [
        "print(len(doc))\n",
        "print([(token.lemma_) for token in doc])"
      ],
      "execution_count": 16,
      "outputs": [
        {
          "output_type": "stream",
          "name": "stdout",
          "text": [
            "5\n",
            "['she', 'live', 'in', 'new hampshire', '.']\n"
          ]
        }
      ]
    },
    {
      "cell_type": "code",
      "metadata": {
        "colab": {
          "base_uri": "https://localhost:8080/"
        },
        "id": "OLptmTy-PXnH",
        "outputId": "d6eea4f6-2382-4eeb-cd42-4982799d830e"
      },
      "source": [
        "doc = nlp(\"She lived in NewHampshire.\")\n",
        "print(len(doc))\n",
        "print([(token.text, token.lemma_, token.i) for token in doc])\n",
        "for token in doc:\n",
        "    print(token.text, token.pos_, token.tag_, token.dep_)"
      ],
      "execution_count": 17,
      "outputs": [
        {
          "output_type": "stream",
          "name": "stdout",
          "text": [
            "5\n",
            "[('She', 'she', 0), ('lived', 'live', 1), ('in', 'in', 2), ('NewHampshire', 'NewHampshire', 3), ('.', '.', 4)]\n",
            "She PRON PRP nsubj\n",
            "lived VERB VBD ROOT\n",
            "in ADP IN prep\n",
            "NewHampshire PROPN NNP pobj\n",
            ". PUNCT . punct\n"
          ]
        }
      ]
    },
    {
      "cell_type": "code",
      "metadata": {
        "id": "YxfxUUdpQkDO"
      },
      "source": [
        "with doc.retokenize() as retokenizer:\n",
        "    heads = [(doc[3], 1), doc[2]]\n",
        "    attrs = {\"TAG\":[\"NNP\", \"NNP\"], \"DEP\":[\"compound\", \"pobj\"]}\n",
        "    retokenizer.split(doc[3], [\"New\", \"Hampshire\"], heads=heads, attrs=attrs)"
      ],
      "execution_count": 18,
      "outputs": []
    },
    {
      "cell_type": "code",
      "metadata": {
        "colab": {
          "base_uri": "https://localhost:8080/"
        },
        "id": "X3y6-Fx-Qt7X",
        "outputId": "69592ab8-1e42-4b9a-cb5d-be585914405a"
      },
      "source": [
        "print(len(doc))\n",
        "print([(token.text, token.lemma_, token.i) for token in doc])\n",
        "for token in doc:\n",
        "    print(token.text, token.pos_, token.tag_, token.dep_)"
      ],
      "execution_count": 19,
      "outputs": [
        {
          "output_type": "stream",
          "name": "stdout",
          "text": [
            "6\n",
            "[('She', 'she', 0), ('lived', 'live', 1), ('in', 'in', 2), ('New', 'New', 3), ('Hampshire', 'Hampshire', 4), ('.', '.', 5)]\n",
            "She PRON PRP nsubj\n",
            "lived VERB VBD ROOT\n",
            "in ADP IN prep\n",
            "New PROPN NNP compound\n",
            "Hampshire PUNCT NNP pobj\n",
            ". PUNCT . punct\n"
          ]
        }
      ]
    },
    {
      "cell_type": "markdown",
      "metadata": {
        "id": "avZcuWNifUVL"
      },
      "source": [
        "### Rule-Based Matching - Matcher Class\n",
        "\n",
        "Matching a pattern"
      ]
    },
    {
      "cell_type": "code",
      "metadata": {
        "id": "QHhKl-x8QxOe"
      },
      "source": [
        "from spacy.matcher import Matcher"
      ],
      "execution_count": 20,
      "outputs": []
    },
    {
      "cell_type": "code",
      "metadata": {
        "colab": {
          "base_uri": "https://localhost:8080/"
        },
        "id": "y8ppvYMEjBXa",
        "outputId": "a64f83a1-2526-4ef3-945a-b31251695cfd"
      },
      "source": [
        "doc = nlp(\"Good morning, I want to reserve a ticket.\") \n",
        "\n",
        "matcher = Matcher(nlp.vocab) # Matcher needs to be intialized with vocabulary object\n",
        "pattern = [{\"LOWER\": \"good\"}, {\"LOWER\": \"morning\"}, {\"IS_PUNCT\": True}] \n",
        "matcher.add(\"morningGreeting\", [pattern]) \n",
        "\n",
        "matches = matcher(doc) \n",
        "for match_id, start, end in matches: \n",
        "    m_span = doc[start:end]   \n",
        "    print(start, end, m_span.text)"
      ],
      "execution_count": 21,
      "outputs": [
        {
          "output_type": "stream",
          "name": "stdout",
          "text": [
            "0 3 Good morning,\n"
          ]
        }
      ]
    },
    {
      "cell_type": "markdown",
      "metadata": {
        "id": "DL6kZu_M5Rie"
      },
      "source": [
        "Matching two patterns"
      ]
    },
    {
      "cell_type": "code",
      "metadata": {
        "colab": {
          "base_uri": "https://localhost:8080/"
        },
        "id": "PjE4HC4slcIz",
        "outputId": "a6662844-274f-4d82-e410-77a2c47b92cb"
      },
      "source": [
        "doc = nlp(\"Good morning, I want to reserve a ticket. I will then say good evening!\") \n",
        "# Initialize the Matcher\n",
        "matcher = Matcher(nlp.vocab)\n",
        "\n",
        "# Define the patterns\n",
        "pattern1 = [{\"LOWER\": \"good\"}, {\"LOWER\": \"morning\"}, {\"IS_PUNCT\": True}]\n",
        "pattern2 = [{\"LOWER\": \"good\"}, {\"LOWER\": \"evening\"}, {\"IS_PUNCT\": True}]  \n",
        "\n",
        "# name and add the patterns\n",
        "matcher.add(\"morningGreeting\", [pattern1]) \n",
        "matcher.add(\"eveningGreeting\", [pattern2]) \n",
        "\n",
        "# get the matches\n",
        "matches = matcher(doc) \n",
        "\n",
        "for match_id, start, end in matches: \n",
        "    pattern_name = nlp.vocab.strings[match_id]\n",
        "    m_span = doc[start:end]   \n",
        "    print(start, end, m_span.text) "
      ],
      "execution_count": 22,
      "outputs": [
        {
          "output_type": "stream",
          "name": "stdout",
          "text": [
            "0 3 Good morning,\n",
            "14 17 good evening!\n"
          ]
        }
      ]
    },
    {
      "cell_type": "markdown",
      "metadata": {
        "id": "_LAoqbw-9pX9"
      },
      "source": [
        "While matching pattern ORTH and TEXT are similar to LOWER: they mean an exact match of the token text, including the case."
      ]
    },
    {
      "cell_type": "code",
      "metadata": {
        "colab": {
          "base_uri": "https://localhost:8080/"
        },
        "id": "EFXfEoJn2bH2",
        "outputId": "69f12d91-5d2b-4522-93f5-786f79b5e7ec"
      },
      "source": [
        "doc = nlp(\"I bought a pineapple.\")\n",
        "\n",
        "matcher = Matcher(nlp.vocab)\n",
        "\n",
        "pattern = [{\"LENGTH\": 1}]\n",
        "\n",
        "matcher.add(\"onlyShort\",  [pattern])\n",
        "\n",
        "matches = matcher(doc)\n",
        "\n",
        "print(\"no.of matches:\", len(matches))\n",
        "\n",
        "for mid, start, end in matches:\n",
        "     print(start, end, doc[start:end])"
      ],
      "execution_count": 23,
      "outputs": [
        {
          "output_type": "stream",
          "name": "stdout",
          "text": [
            "no.of matches: 3\n",
            "0 1 I\n",
            "2 3 a\n",
            "4 5 .\n"
          ]
        }
      ]
    },
    {
      "cell_type": "markdown",
      "metadata": {
        "id": "PaHpPu52-PXc"
      },
      "source": [
        "The next block of token attributes is IS_ALPHA, IS_ASCII, and IS_DIGIT. These features are handy for finding number tokens and ordinary words (which do not include any interesting characters). The following pattern matches a sequence of two tokens, a number followed by an ordinary word:"
      ]
    },
    {
      "cell_type": "code",
      "metadata": {
        "colab": {
          "base_uri": "https://localhost:8080/"
        },
        "id": "2380v65K9_vr",
        "outputId": "5ad6cfd3-e489-4b31-9447-145d638df981"
      },
      "source": [
        "doc1 = nlp(\"I met him at 2 o'clock.\")\n",
        "\n",
        "matcher = Matcher(nlp.vocab)\n",
        "\n",
        "pattern = [{\"IS_DIGIT\": True},{\"IS_ALPHA\": True}]\n",
        "\n",
        "matcher.add(\"numberAndPlainWord\",  [pattern])\n",
        "\n",
        "matches = matcher(doc1)\n",
        "\n",
        "print(len(matches))\n",
        "\n",
        "for mid, start, end in matches:\n",
        "     print(start, end, doc1[start:end])"
      ],
      "execution_count": 24,
      "outputs": [
        {
          "output_type": "stream",
          "name": "stdout",
          "text": [
            "0\n"
          ]
        }
      ]
    },
    {
      "cell_type": "code",
      "metadata": {
        "colab": {
          "base_uri": "https://localhost:8080/"
        },
        "id": "xmLioJoC-yc1",
        "outputId": "80f64c1d-ab5c-431d-9a20-813d6c5598d2"
      },
      "source": [
        "doc2 = nlp(\"He brought me 2 apples.\")\n",
        "\n",
        "matcher = Matcher(nlp.vocab)\n",
        "\n",
        "pattern = [{\"IS_DIGIT\": True},{\"IS_ALPHA\": True}]\n",
        "\n",
        "matcher.add(\"numberAndPlainWord\",  [pattern])\n",
        "\n",
        "matches = matcher(doc2)\n",
        "\n",
        "print(len(matches))\n",
        "\n",
        "for mid, start, end in matches:\n",
        "     print(start, end, doc2[start:end])"
      ],
      "execution_count": 25,
      "outputs": [
        {
          "output_type": "stream",
          "name": "stdout",
          "text": [
            "1\n",
            "3 5 2 apples\n"
          ]
        }
      ]
    },
    {
      "cell_type": "markdown",
      "metadata": {
        "id": "vs257RcVOH7M"
      },
      "source": [
        "In the preceding code segment, 2 o'clock didn't match the pattern because o'clock contains an apostrophe, which is not an alphabetic character (alphabetic characters are digits, letters, and the underscore character). 2 apples matched because the token apples consists of letters."
      ]
    },
    {
      "cell_type": "code",
      "metadata": {
        "colab": {
          "base_uri": "https://localhost:8080/"
        },
        "id": "qaM7q81n_O3s",
        "outputId": "eab1c1f3-17f8-46ae-840b-3e950556b821"
      },
      "source": [
        "doc = nlp(\"Take me out of your SPAM list. We never asked you to contact me. If you write again we'll SUE!!!!\")\n",
        "\n",
        "matcher = Matcher(nlp.vocab)\n",
        "\n",
        "pattern = [{\"IS_UPPER\": True}]\n",
        "\n",
        "matcher.add(\"capitals\",  [pattern])\n",
        "\n",
        "matches = matcher(doc)\n",
        "\n",
        "for mid, start, end in matches:\n",
        "     print(start, end, doc[start:end])"
      ],
      "execution_count": 26,
      "outputs": [
        {
          "output_type": "stream",
          "name": "stdout",
          "text": [
            "5 6 SPAM\n",
            "22 23 SUE\n"
          ]
        }
      ]
    },
    {
      "cell_type": "code",
      "metadata": {
        "id": "yrxVBGibQ4Jy"
      },
      "source": [
        "doc1 = nlp(\"Can you swim?\")\n",
        "\n",
        "matcher = Matcher(nlp.vocab)\n",
        "\n",
        "# In here we put two attributes in one  brace\n",
        "pattern = [{\"IS_SENT_START\": True, \"LOWER\": \"can\"}, {\"IS_TITLE\": True}]\n",
        "\n",
        "matcher.add(\"canThenCapitalized\",  [pattern])\n",
        "\n",
        "matches = matcher(doc1)\n",
        "\n",
        "for mid, start, end in matches:\n",
        "     print(start, end, doc1[start:end])"
      ],
      "execution_count": 27,
      "outputs": []
    },
    {
      "cell_type": "code",
      "metadata": {
        "colab": {
          "base_uri": "https://localhost:8080/"
        },
        "id": "AWMq_HKoRBZ7",
        "outputId": "4070a8f8-a7f0-4c29-d28c-2bcbc51d9639"
      },
      "source": [
        "doc2 = nlp(\"Can Sally swim?\")\n",
        "\n",
        "matcher = Matcher(nlp.vocab)\n",
        "\n",
        "pattern = [{\"IS_SENT_START\": True, \"LOWER\": \"can\"}, {\"IS_TITLE\": True}]\n",
        "\n",
        "matcher.add(\"canThenCapitalized\",  [pattern])\n",
        "\n",
        "matches = matcher(doc2)\n",
        "\n",
        "for mid, start, end in matches:\n",
        "     print(start, end, doc2[start:end])"
      ],
      "execution_count": 28,
      "outputs": [
        {
          "output_type": "stream",
          "name": "stdout",
          "text": [
            "0 2 Can Sally\n"
          ]
        }
      ]
    },
    {
      "cell_type": "markdown",
      "metadata": {
        "id": "DUj7P6RHSkok"
      },
      "source": [
        "LIKE_NUM, LIKE_URL, and LIKE_EMAIL are attributes that are related to token shape.\n",
        "\n",
        "After seeing the shape attributes, let's see the POS, TAG, DEP, LEMMA, and SHAPE linguistic attributes"
      ]
    },
    {
      "cell_type": "code",
      "metadata": {
        "colab": {
          "base_uri": "https://localhost:8080/"
        },
        "id": "b2Rz5BiPRZf7",
        "outputId": "7fdbd4b0-c186-4184-d711-91dc4e383ea8"
      },
      "source": [
        "doc = nlp(\"Will you go there?\")\n",
        "\n",
        "matcher = Matcher(nlp.vocab)\n",
        "\n",
        "pattern = [{\"IS_SENT_START\": True, \"TAG\": \"MD\"}]\n",
        "\n",
        "matcher.add(\"sentStart\",[pattern])\n",
        "\n",
        "matches = matcher(doc)\n",
        "\n",
        "for mid, start, end in matches:\n",
        "     print(start, end, doc[start:end])"
      ],
      "execution_count": 29,
      "outputs": [
        {
          "output_type": "stream",
          "name": "stdout",
          "text": [
            "0 1 Will\n"
          ]
        }
      ]
    },
    {
      "cell_type": "markdown",
      "metadata": {
        "id": "nI-2phepVcld"
      },
      "source": [
        "Extended syntax support - IN, NOT_IN, IS_SUBSET, IS_SUPERSET, INTESECTS and comparison operators."
      ]
    },
    {
      "cell_type": "code",
      "metadata": {
        "colab": {
          "base_uri": "https://localhost:8080/"
        },
        "id": "lUbhjgX0TNvL",
        "outputId": "01ad9aff-1cdf-461d-aa92-350c4200b4e2"
      },
      "source": [
        "doc = nlp(\"Good morning, I'm here. I'll say good evening!!\")\n",
        "\n",
        "matcher = Matcher(nlp.vocab)\n",
        "\n",
        "pattern = [{\"LOWER\": \"good\"},{\"LOWER\": {\"IN\": [\"morning\", \"evening\"]}},{\"IS_PUNCT\": True}]\n",
        "\n",
        "matcher.add(\"greetings\",  [pattern])\n",
        "\n",
        "matches = matcher(doc)\n",
        "\n",
        "for mid, start, end in matches:\n",
        "     print(start, end, doc[start:end])"
      ],
      "execution_count": 30,
      "outputs": [
        {
          "output_type": "stream",
          "name": "stdout",
          "text": [
            "0 3 Good morning,\n",
            "10 13 good evening!\n"
          ]
        }
      ]
    },
    {
      "cell_type": "code",
      "metadata": {
        "colab": {
          "base_uri": "https://localhost:8080/"
        },
        "id": "y7EtCuPGVhs7",
        "outputId": "0876cd62-4b9d-46c4-9bcc-c6859c150bf6"
      },
      "source": [
        "doc = nlp(\"I suffered from Trichotillomania when I was in college. The doctor prescribed me Psychosomatic medicine.\")\n",
        "\n",
        "matcher = Matcher(nlp.vocab)\n",
        "\n",
        "pattern = [{\"LENGTH\": {\">=\" : 10}}]\n",
        "\n",
        "matcher.add(\"longWords\",  [pattern])\n",
        "\n",
        "matches = matcher(doc)\n",
        "\n",
        "for mid, start, end in matches:\n",
        "     print(start, end, doc[start:end])"
      ],
      "execution_count": 31,
      "outputs": [
        {
          "output_type": "stream",
          "name": "stdout",
          "text": [
            "3 4 Trichotillomania\n",
            "12 13 prescribed\n",
            "14 15 Psychosomatic\n"
          ]
        }
      ]
    },
    {
      "cell_type": "markdown",
      "metadata": {
        "id": "iDbbEWskWLLy"
      },
      "source": [
        "Regex-like operators - OP\n",
        "```\n",
        "    !\tNegate the pattern, by requiring it to match exactly 0 times.\n",
        "    ?\tMake the pattern optional, by allowing it to match 0 or 1 times.\n",
        "    +\tRequire the pattern to match 1 or more times.\n",
        "    *\tAllow the pattern to match 0 or more times.\n",
        "```"
      ]
    },
    {
      "cell_type": "code",
      "metadata": {
        "colab": {
          "base_uri": "https://localhost:8080/"
        },
        "id": "HR6d1Lu6WOKC",
        "outputId": "237148f5-37e1-4a6f-e90d-8d61a0fc8640"
      },
      "source": [
        "doc1 = nlp(\"Barack Obama visited France.\")\n",
        "doc2 = nlp(\"Barack Hussein Obama visited France.\")\n",
        "\n",
        "matcher = Matcher(nlp.vocab)\n",
        "\n",
        "pattern = [{\"LOWER\": \"barack\"}, {\"LOWER\": \"hussein\", \"OP\": \"?\"},{\"LOWER\": \"obama\"}]\n",
        "\n",
        "matcher.add(\"obamaNames\",  [pattern])\n",
        "\n",
        "print(matcher(doc1))\n",
        "print(matcher(doc2))"
      ],
      "execution_count": 32,
      "outputs": [
        {
          "output_type": "stream",
          "name": "stdout",
          "text": [
            "[(9957319642918298529, 0, 2)]\n",
            "[(9957319642918298529, 0, 3)]\n"
          ]
        }
      ]
    },
    {
      "cell_type": "code",
      "metadata": {
        "colab": {
          "base_uri": "https://localhost:8080/"
        },
        "id": "W5TZVOkwXt2R",
        "outputId": "8e01dc62-f31a-46ad-be93-633dea3f4f42"
      },
      "source": [
        "doc1 = nlp(\"Hello hello hello, how are you?\")\n",
        "doc2 = nlp(\"Hello, how are you?\")\n",
        "doc3 = nlp(\"How are you?\")\n",
        "\n",
        "matcher = Matcher(nlp.vocab)\n",
        "\n",
        "pattern = [{\"LOWER\": {\"IN\": [\"hello\", \"hi\", \"hallo\"]}, \"OP\": \"*\"}, {\"IS_PUNCT\": True}]\n",
        "\n",
        "matcher.add(\"greetings\",  [pattern])\n",
        "\n",
        "print(\"**************\")\n",
        "\n",
        "for mid, start, end in matcher(doc1):\n",
        "     print(start, end, doc1[start:end])\n",
        "\n",
        "print(\"**************\")\n",
        "\n",
        "for mid, start, end in matcher(doc2):\n",
        "     print(start, end, doc1[start:end])\n",
        "\n",
        "print(\"**************\")\n",
        "\n",
        "for mid, start, end in matcher(doc3):\n",
        "     print(start, end, doc1[start:end])\n",
        "\n",
        "print(\"**************\")"
      ],
      "execution_count": 33,
      "outputs": [
        {
          "output_type": "stream",
          "name": "stdout",
          "text": [
            "**************\n",
            "0 4 Hello hello hello,\n",
            "1 4 hello hello,\n",
            "2 4 hello,\n",
            "3 4 ,\n",
            "7 8 ?\n",
            "**************\n",
            "0 2 Hello hello\n",
            "1 2 hello\n",
            "5 6 are\n",
            "**************\n",
            "3 4 ,\n",
            "**************\n"
          ]
        }
      ]
    },
    {
      "cell_type": "code",
      "metadata": {
        "colab": {
          "base_uri": "https://localhost:8080/"
        },
        "id": "11u5Q6QabgQ0",
        "outputId": "a56640e0-825a-4141-f730-639e83cb863e"
      },
      "source": [
        "doc1 = nlp(\"Hello hello hello, how are you?\")\n",
        "doc2 = nlp(\"Hello, how are you?\")\n",
        "doc3 = nlp(\"How are you?\")\n",
        "\n",
        "matcher = Matcher(nlp.vocab)\n",
        "\n",
        "pattern = [{\"LOWER\": {\"IN\": [\"hello\", \"hi\", \"hallo\"]}, \"OP\": \"+\"}, {\"IS_PUNCT\": True}]\n",
        "\n",
        "matcher.add(\"greetings\", [pattern])\n",
        "\n",
        "print(\"**************\")\n",
        "\n",
        "for mid, start, end in matcher(doc1):\n",
        "     print(start, end, doc1[start:end])\n",
        "\n",
        "print(\"**************\")\n",
        "\n",
        "for mid, start, end in matcher(doc2):\n",
        "     print(start, end, doc1[start:end])\n",
        "\n",
        "print(\"**************\")\n",
        "\n",
        "for mid, start, end in matcher(doc3):\n",
        "     print(start, end, doc1[start:end])\n",
        "\n",
        "print(\"**************\")"
      ],
      "execution_count": 34,
      "outputs": [
        {
          "output_type": "stream",
          "name": "stdout",
          "text": [
            "**************\n",
            "2 4 hello,\n",
            "1 4 hello hello,\n",
            "0 4 Hello hello hello,\n",
            "**************\n",
            "0 2 Hello hello\n",
            "**************\n",
            "**************\n"
          ]
        }
      ]
    },
    {
      "cell_type": "markdown",
      "metadata": {
        "id": "XI-1fH06YjEa"
      },
      "source": [
        "Regex support - spaCy Matcher offers full support for token-level regex matching"
      ]
    },
    {
      "cell_type": "code",
      "metadata": {
        "colab": {
          "base_uri": "https://localhost:8080/"
        },
        "id": "qhzDrjbEYfhz",
        "outputId": "d8436bf4-f730-4a80-a597-9dfd44e3d3c0"
      },
      "source": [
        "doc1 = nlp(\"I travelled by bus.\") \n",
        "doc2 = nlp(\"She traveled by bike.\") \n",
        "\n",
        "matcher = Matcher(nlp.vocab)\n",
        "\n",
        "pattern = [{\"POS\": \"PRON\"}, {\"TEXT\": {\"REGEX\": \"[Tt]ravell?ed\"}}] \n",
        "\n",
        "matcher.add(\"travelRegex\", [pattern]) \n",
        "\n",
        "for mid, start, end in matcher(doc1): \n",
        "    print(start, end, doc1[start:end]) \n",
        "\n",
        "for mid, start, end in matcher(doc2): \n",
        "    print(start, end, doc2[start:end]) "
      ],
      "execution_count": 35,
      "outputs": [
        {
          "output_type": "stream",
          "name": "stdout",
          "text": [
            "0 2 I travelled\n",
            "0 2 She traveled\n"
          ]
        }
      ]
    },
    {
      "cell_type": "code",
      "metadata": {
        "colab": {
          "base_uri": "https://localhost:8080/"
        },
        "id": "3uICLAFmffhJ",
        "outputId": "a4df2f03-d200-419d-aae5-54f298082538"
      },
      "source": [
        "doc = nlp(\"I went to Italy; he has been there too. His mother also has told me she wants to visit Rome.\")\n",
        "\n",
        "matcher = Matcher(nlp.vocab)\n",
        "\n",
        "# Using regex with POS tags\n",
        "pattern = [{\"TAG\": {\"REGEX\": \"^V\"}}]\n",
        "\n",
        "matcher.add(\"verbs\",  [pattern])\n",
        "\n",
        "for mid, start, end in matcher(doc):\n",
        "    print(start, end, doc1[start:end])"
      ],
      "execution_count": 36,
      "outputs": [
        {
          "output_type": "stream",
          "name": "stdout",
          "text": [
            "1 2 travelled\n",
            "6 7 \n",
            "7 8 \n",
            "14 15 \n",
            "15 16 \n",
            "18 19 \n",
            "20 21 \n"
          ]
        }
      ]
    },
    {
      "cell_type": "markdown",
      "metadata": {
        "id": "rNE2o8zQcVzs"
      },
      "source": [
        "We have extracted all the finite verbs (you can think of a finite verb as a non-modal verb). How did we do it? Our token pattern includes the regex ^V, which means all fine-grained POS tags that start with V: VB, VGD, VBG, VBN, VBP, and VBZ. Then we extracted tokens with verbal POS tags."
      ]
    },
    {
      "cell_type": "markdown",
      "metadata": {
        "id": "B_mmJ2ALgFWi"
      },
      "source": [
        "Wild Card Matching"
      ]
    },
    {
      "cell_type": "code",
      "metadata": {
        "colab": {
          "base_uri": "https://localhost:8080/"
        },
        "id": "lZFTHiXCYgg6",
        "outputId": "32a1d0f9-3a01-4480-9978-57326a946d9e"
      },
      "source": [
        "doc = nlp(\"My name is Alice and his name was Elliot.\")\n",
        "\n",
        "matcher = Matcher(nlp.vocab)\n",
        "\n",
        "pattern = [{\"LOWER\": \"name\"},{\"LEMMA\": \"be\"},{}]\n",
        "\n",
        "matcher.add(\"pickName\", [pattern])\n",
        "\n",
        "for mid, start, end in matcher(doc):\n",
        "     print(start, end, doc[start:end])"
      ],
      "execution_count": 37,
      "outputs": [
        {
          "output_type": "stream",
          "name": "stdout",
          "text": [
            "1 4 name is Alice\n",
            "6 9 name was Elliot\n"
          ]
        }
      ]
    },
    {
      "cell_type": "code",
      "metadata": {
        "colab": {
          "base_uri": "https://localhost:8080/"
        },
        "id": "NoUbQfM9ciYq",
        "outputId": "c99f9cfb-2cda-4e8b-ec86-ae80d32027a9"
      },
      "source": [
        "doc1 = nlp(\"I forwarded his email to you.\")\n",
        "doc2 = nlp(\"I forwarded an email to you.\")\n",
        "doc3 = nlp(\"I forwarded the email to you.\")\n",
        "\n",
        "matcher = Matcher(nlp.vocab)\n",
        "\n",
        "pattern = [{\"LEMMA\": \"forward\"}, {}, {\"LOWER\": \"email\"}]\n",
        "\n",
        "matcher.add(\"forwardMail\",  [pattern])\n",
        "\n",
        "print(\"****************************\")\n",
        "\n",
        "for mid, start, end in matcher(doc1):\n",
        "     print(start, end, doc1[start:end])\n",
        "\n",
        "print(\"****************************\")\n",
        "\n",
        "for mid, start, end in matcher(doc2):\n",
        "     print(start, end, doc2[start:end])\n",
        "\n",
        "print(\"****************************\")\n",
        "\n",
        "for mid, start, end in matcher(doc3):\n",
        "    print(start, end, doc3[start:end])\n",
        "\n",
        "print(\"****************************\")"
      ],
      "execution_count": 38,
      "outputs": [
        {
          "output_type": "stream",
          "name": "stdout",
          "text": [
            "****************************\n",
            "1 4 forwarded his email\n",
            "****************************\n",
            "1 4 forwarded an email\n",
            "****************************\n",
            "1 4 forwarded the email\n",
            "****************************\n"
          ]
        }
      ]
    },
    {
      "cell_type": "markdown",
      "metadata": {
        "id": "xDsNdDlt4fiT"
      },
      "source": [
        "To check regex and Matcher these sites are useful:\n",
        "\n",
        "https://regex101.com/  \n",
        "\n",
        "https://explosion.ai/demos/matcher"
      ]
    },
    {
      "cell_type": "markdown",
      "metadata": {
        "id": "h9qqYwPv4y5A"
      },
      "source": [
        "Phrase Matcher"
      ]
    },
    {
      "cell_type": "code",
      "metadata": {
        "id": "UB6EyoJOc8qp"
      },
      "source": [
        "from spacy.matcher import PhraseMatcher"
      ],
      "execution_count": 39,
      "outputs": []
    },
    {
      "cell_type": "code",
      "metadata": {
        "colab": {
          "base_uri": "https://localhost:8080/"
        },
        "id": "LWOlfDpd43l6",
        "outputId": "edab1481-6820-471a-8ad4-99621abb4433"
      },
      "source": [
        "doc = nlp(\"3 EU leaders met in Berlin. German chancellor Angela Merkel first welcomed the US president Donald Trump. The following day Alexis Tsipras joined them in Brandenburg.\")\n",
        "\n",
        "matcher = PhraseMatcher(nlp.vocab) \n",
        "\n",
        "terms = [\"Angela Merkel\", \"Donald Trump\", \"Alexis Tsipras\"] \n",
        "patterns = [nlp.make_doc(term) for term in terms] \n",
        "# make_doc() creates a Doc from every term, and it's quite efficient in terms\n",
        "# of processing because instead of the whole pipeline, it only calls the Tokenizer\n",
        "matcher.add(\"politiciansList\", None, *patterns) \n",
        "\n",
        "matches = matcher(doc) \n",
        "\n",
        "for mid, start, end in matches: \n",
        "    print(start, end, doc[start:end]) "
      ],
      "execution_count": 40,
      "outputs": [
        {
          "output_type": "stream",
          "name": "stdout",
          "text": [
            "9 11 Angela Merkel\n",
            "16 18 Donald Trump\n",
            "22 24 Alexis Tsipras\n"
          ]
        }
      ]
    },
    {
      "cell_type": "markdown",
      "metadata": {
        "id": "u43ksZ7395lI"
      },
      "source": [
        "Example of matching by the LOWER attribute"
      ]
    },
    {
      "cell_type": "code",
      "metadata": {
        "colab": {
          "base_uri": "https://localhost:8080/"
        },
        "id": "73GcQzIY5N3f",
        "outputId": "c9d7921e-e350-46f0-b4cf-0ff9a337f9d1"
      },
      "source": [
        "doc = nlp(\"During the last decade, derivatives market became an asset class of their own and influenced the financial landscape strongly.\")\n",
        "\n",
        "matcher = PhraseMatcher(nlp.vocab, attr=\"LOWER\")\n",
        "\n",
        "terms = [\"Asset\", \"Investment\", \"Derivatives\", \"Demand\",  \"Market\"]\n",
        "patterns = [nlp.make_doc(term) for term in terms]\n",
        "matcher.add(\"financeTerms\", None, *patterns)\n",
        "\n",
        "matches = matcher(doc)\n",
        "\n",
        "for mid, start, end in matches:\n",
        "    print(start, end, doc[start:end])"
      ],
      "execution_count": 41,
      "outputs": [
        {
          "output_type": "stream",
          "name": "stdout",
          "text": [
            "5 6 derivatives\n",
            "6 7 market\n",
            "9 10 asset\n"
          ]
        }
      ]
    },
    {
      "cell_type": "markdown",
      "metadata": {
        "id": "RPpsRlrZ-Ds3"
      },
      "source": [
        "Example of matching by the SHAPE attribute"
      ]
    },
    {
      "cell_type": "code",
      "metadata": {
        "colab": {
          "base_uri": "https://localhost:8080/"
        },
        "id": "J4gCpprl98bI",
        "outputId": "5e7844bf-7d64-4730-863a-935f7931dc67"
      },
      "source": [
        "doc = nlp(\"This log contains the following IP addresses: 192.1.1.1 and 192.12.1.1 and 192.160.1.1 .\")\n",
        "\n",
        "matcher = PhraseMatcher(nlp.vocab, attr=\"SHAPE\")\n",
        "\n",
        "ip_nums = [\"127.0.0.0\", \"127.256.0.0\"]\n",
        "patterns = [nlp.make_doc(ip) for ip in ip_nums]\n",
        "matcher.add(\"IPNums\", None, *patterns)\n",
        "\n",
        "for mid, start, end in matcher(doc):\n",
        "    print(start, end, doc[start:end])"
      ],
      "execution_count": 42,
      "outputs": [
        {
          "output_type": "stream",
          "name": "stdout",
          "text": [
            "8 9 192.1.1.1\n",
            "12 13 192.160.1.1\n"
          ]
        }
      ]
    },
    {
      "cell_type": "markdown",
      "metadata": {
        "id": "Vb-vr2_o-lcy"
      },
      "source": [
        "### Entity Ruler"
      ]
    },
    {
      "cell_type": "code",
      "metadata": {
        "colab": {
          "base_uri": "https://localhost:8080/"
        },
        "id": "5XwDkZur-Z8n",
        "outputId": "c57be757-ca54-436d-b463-f2169bbd2f1f"
      },
      "source": [
        "doc = nlp(\"Bill Gates visited Berlin.\")\n",
        "\n",
        "matcher = Matcher(nlp.vocab)\n",
        "\n",
        "pattern = [{\"ENT_TYPE\": \"PERSON\"}]\n",
        "matcher.add(\"personEnt\",  [pattern])\n",
        "\n",
        "matches = matcher(doc)\n",
        "\n",
        "for mid, start, end in matches:\n",
        "    print(start, end, doc[start:end])"
      ],
      "execution_count": 43,
      "outputs": [
        {
          "output_type": "stream",
          "name": "stdout",
          "text": [
            "0 1 Bill\n",
            "1 2 Gates\n"
          ]
        }
      ]
    },
    {
      "cell_type": "code",
      "metadata": {
        "colab": {
          "base_uri": "https://localhost:8080/"
        },
        "id": "viT_v9TC--J2",
        "outputId": "bdef605e-cc3d-4430-9261-3c60b6200a0f"
      },
      "source": [
        "doc = nlp(\"Today German chancellor Angela Merkel met with the US president.\")\n",
        "\n",
        "matcher = Matcher(nlp.vocab)\n",
        "\n",
        "pattern = [{\"ENT_TYPE\": \"PERSON\", \"OP\": \"+\"}, {\"POS\" : \"VERB\"}]\n",
        "matcher.add(\"personEntAction\",  [pattern])\n",
        "\n",
        "matches = matcher(doc)\n",
        "\n",
        "for mid, start, end in matches:\n",
        "    print(start, end, doc[start:end])"
      ],
      "execution_count": 44,
      "outputs": [
        {
          "output_type": "stream",
          "name": "stdout",
          "text": [
            "4 6 Merkel met\n",
            "3 6 Angela Merkel met\n"
          ]
        }
      ]
    },
    {
      "cell_type": "markdown",
      "metadata": {
        "id": "SI8Nkylb_cyw"
      },
      "source": [
        "spaCy's EntityRuler is the component that allows us to add rules on top of the statistical model and creates an even more powerful NER model.\n",
        "\n",
        "EntityRuler is not a matcher, it's a pipeline component that we can add to our pipeline via nlp.add_pipe. When it finds a match, the match is appended to doc.ents and ent_type will be the label we pass in the pattern"
      ]
    },
    {
      "cell_type": "code",
      "metadata": {
        "colab": {
          "base_uri": "https://localhost:8080/"
        },
        "id": "HZF_i8pvpdqv",
        "outputId": "247c3edc-9b4f-4935-a424-dbd8cf685326"
      },
      "source": [
        "nlp.pipe_names"
      ],
      "execution_count": 45,
      "outputs": [
        {
          "output_type": "execute_result",
          "data": {
            "text/plain": [
              "['tok2vec', 'tagger', 'parser', 'attribute_ruler', 'lemmatizer', 'ner']"
            ]
          },
          "metadata": {},
          "execution_count": 45
        }
      ]
    },
    {
      "cell_type": "code",
      "metadata": {
        "colab": {
          "base_uri": "https://localhost:8080/"
        },
        "id": "_39AmppI_IIA",
        "outputId": "bfa99b33-907a-4e3b-a6c2-c13974583cb5"
      },
      "source": [
        "doc = nlp(\"I have an acccount with chime since 2017\")\n",
        "\n",
        "for ent in doc.ents:\n",
        "  print(ent.text, ent.label_)\n"
      ],
      "execution_count": 46,
      "outputs": [
        {
          "output_type": "stream",
          "name": "stdout",
          "text": [
            "2017 DATE\n"
          ]
        }
      ]
    },
    {
      "cell_type": "code",
      "metadata": {
        "id": "c5dZAEmdPOQ2"
      },
      "source": [
        "ruler = nlp.add_pipe('entity_ruler')"
      ],
      "execution_count": 47,
      "outputs": []
    },
    {
      "cell_type": "code",
      "metadata": {
        "colab": {
          "base_uri": "https://localhost:8080/"
        },
        "id": "FnZRBePhRGth",
        "outputId": "07d80f47-0e0e-4e18-92e9-08f04774b117"
      },
      "source": [
        "nlp.pipe_names"
      ],
      "execution_count": 48,
      "outputs": [
        {
          "output_type": "execute_result",
          "data": {
            "text/plain": [
              "['tok2vec',\n",
              " 'tagger',\n",
              " 'parser',\n",
              " 'attribute_ruler',\n",
              " 'lemmatizer',\n",
              " 'ner',\n",
              " 'entity_ruler']"
            ]
          },
          "metadata": {},
          "execution_count": 48
        }
      ]
    },
    {
      "cell_type": "code",
      "metadata": {
        "id": "QGb4Id1i1KCY"
      },
      "source": [
        "patterns = [{\"label\": \"ORG\", \"pattern\": [{\"LOWER\": \"chime\"}]}]"
      ],
      "execution_count": 49,
      "outputs": []
    },
    {
      "cell_type": "code",
      "metadata": {
        "id": "fNIIC8372Tmh"
      },
      "source": [
        "ruler.add_patterns(patterns)"
      ],
      "execution_count": 50,
      "outputs": []
    },
    {
      "cell_type": "code",
      "metadata": {
        "colab": {
          "base_uri": "https://localhost:8080/"
        },
        "id": "DnUG-5AJ_zNd",
        "outputId": "e5f2679b-f810-41a4-d0e7-1949c7741932"
      },
      "source": [
        "doc2 = nlp(\"I have an acccount with chime since 2017\")\n",
        "print(doc2.ents)\n",
        "print(doc2[5].ent_type_)"
      ],
      "execution_count": 51,
      "outputs": [
        {
          "output_type": "stream",
          "name": "stdout",
          "text": [
            "(chime, 2017)\n",
            "ORG\n"
          ]
        }
      ]
    },
    {
      "cell_type": "markdown",
      "metadata": {
        "id": "_KOHJcDf9nby"
      },
      "source": [
        "### Combining spaCy models and matchers\n",
        "Extracting IBAN and account numbers"
      ]
    },
    {
      "cell_type": "code",
      "metadata": {
        "colab": {
          "base_uri": "https://localhost:8080/"
        },
        "id": "aoFDtpzmoCb2",
        "outputId": "cb3eeda2-d4f0-4afe-c52c-8b3f515e38f8"
      },
      "source": [
        "doc = nlp(\"My IBAN number is BE71 0961 2345 6769, please send the money there.\")\n",
        "doc1 = nlp(\"My IBAN number is FR76 3000 6000 0112 3456 7890 189, please send the money there.\")\n",
        "\n",
        "matcher = Matcher(nlp.vocab)\n",
        "\n",
        "pattern = [{\"SHAPE\": \"XXdd\"}, {\"TEXT\": {\"REGEX\": \"\\d{1,4}\"}, \"OP\":\"+\"}]\n",
        "matcher.add(\"ibanNum\", [pattern])\n",
        "\n",
        "for mid, start, end in matcher(doc):\n",
        "    print(start, end, doc[start:end])\n",
        "\n",
        "print(\"**************************************\")\n",
        "\n",
        "for mid, start, end in matcher(doc1):\n",
        "    print(start, end, doc1[start:end])"
      ],
      "execution_count": 52,
      "outputs": [
        {
          "output_type": "stream",
          "name": "stdout",
          "text": [
            "4 6 BE71 0961\n",
            "4 7 BE71 0961 2345\n",
            "4 8 BE71 0961 2345 6769\n",
            "**************************************\n",
            "4 6 FR76 3000\n",
            "4 7 FR76 3000 6000\n",
            "4 8 FR76 3000 6000 0112\n",
            "4 9 FR76 3000 6000 0112 3456\n",
            "4 10 FR76 3000 6000 0112 3456 7890\n",
            "4 11 FR76 3000 6000 0112 3456 7890 189\n"
          ]
        }
      ]
    },
    {
      "cell_type": "code",
      "metadata": {
        "id": "jv6yFxtj99WW",
        "outputId": "828b9da0-0539-4128-f5e5-08b5a51f3ebc",
        "colab": {
          "base_uri": "https://localhost:8080/"
        }
      },
      "source": [
        "doc = nlp(\"My account number is 8921273.\")\n",
        "\n",
        "matcher = Matcher(nlp.vocab)\n",
        "pattern = [{\"LOWER\": \"account\"},{\"LOWER\": {\"IN\": [\"num\", \"number\"]}},{},{\"IS_DIGIT\": True}]\n",
        "matcher.add(\"accountNum\", [pattern])\n",
        "\n",
        "for mid, start, end in matcher(doc):\n",
        "    print(start, end, doc[start:end])"
      ],
      "execution_count": 53,
      "outputs": [
        {
          "output_type": "stream",
          "name": "stdout",
          "text": [
            "1 5 account number is 8921273\n"
          ]
        }
      ]
    },
    {
      "cell_type": "markdown",
      "metadata": {
        "id": "Jv9OP98m_lBf"
      },
      "source": [
        "Extracting phone number"
      ]
    },
    {
      "cell_type": "code",
      "metadata": {
        "id": "GA2Hs07l-geH",
        "outputId": "e2d47752-6558-4fad-d5a5-dc6f4cb46533",
        "colab": {
          "base_uri": "https://localhost:8080/"
        }
      },
      "source": [
        "doc1 = nlp(\"You can call my office on +1 (221) 102-2423 or email me directly.\")\n",
        "doc2 = nlp(\"You can call me on (221) 102 2423 or text me.\")\n",
        "\n",
        "matcher = Matcher(nlp.vocab)\n",
        "pattern = [{\"TEXT\": \"+1\", \"OP\": \"?\"}, {\"TEXT\": \"(\"}, {\"SHAPE\": \"ddd\"}, {\"TEXT\": \")\"}, {\"SHAPE\": \"ddd\"}, {\"TEXT\": \"-\", \"OP\": \"?\"}, {\"SHAPE\": \"dddd\"}]\n",
        "matcher.add(\"usPhonNum\", [pattern])\n",
        "\n",
        "for mid, start, end in matcher(doc1):\n",
        "    print(start, end, doc1[start:end])\n",
        "\n",
        "print(\"**************************************\")\n",
        "\n",
        "for mid, start, end in matcher(doc2):\n",
        "    print(start, end, doc2[start:end])"
      ],
      "execution_count": 54,
      "outputs": [
        {
          "output_type": "stream",
          "name": "stdout",
          "text": [
            "6 13 +1 (221) 102-2423\n",
            "7 13 (221) 102-2423\n",
            "**************************************\n",
            "5 10 (221) 102 2423\n"
          ]
        }
      ]
    },
    {
      "cell_type": "markdown",
      "metadata": {
        "id": "T-HcgMtDAcWF"
      },
      "source": [
        "\n",
        "\n",
        "Extracting mentions  \n",
        "```\n",
        "pattern = [{\"ENT_TYPE\": \"ORG\"}, {\"LEMMA\": \"be\"}, {\"POS\": \"ADV\", \"OP\":\"*\" {\"POS\": \"ADJ\"}]\n",
        "```\n",
        "Hashtag and emoji extraction\n",
        "\n",
        "Expanding named entities"
      ]
    },
    {
      "cell_type": "code",
      "metadata": {
        "id": "kJtOvUhUAKyI",
        "outputId": "be6f2b2f-b184-4140-ab70-45f60ee5e107",
        "colab": {
          "base_uri": "https://localhost:8080/"
        }
      },
      "source": [
        "doc = nlp(\"Ms. Smith left her house 2 hours ago.\")\n",
        "doc.ents"
      ],
      "execution_count": 55,
      "outputs": [
        {
          "output_type": "execute_result",
          "data": {
            "text/plain": [
              "(Smith, 2 hours ago)"
            ]
          },
          "metadata": {},
          "execution_count": 55
        }
      ]
    },
    {
      "cell_type": "code",
      "metadata": {
        "id": "vY1l6qHEFsz9",
        "outputId": "dc9c8b49-c2f2-4f88-db3a-c6f7697a638b",
        "colab": {
          "base_uri": "https://localhost:8080/"
        }
      },
      "source": [
        "doc = nlp(\"Ms. Smith left her house\")\n",
        "\n",
        "patterns = [{\"label\": \"TITLE\", \"pattern\": [{\"LOWER\": {\"IN\": [\"ms.\", \"mr.\", \"mrs.\", \"prof.\", \"dr.\"]}}]}]\n",
        "ruler.add_patterns(patterns)\n",
        "\n",
        "print([(ent.text, ent.label_) for ent in doc.ents])"
      ],
      "execution_count": 56,
      "outputs": [
        {
          "output_type": "stream",
          "name": "stdout",
          "text": [
            "[('Smith', 'PERSON')]\n"
          ]
        }
      ]
    },
    {
      "cell_type": "markdown",
      "metadata": {
        "id": "CozTRn52KM7V"
      },
      "source": [
        "Combining linguistic features and named entities"
      ]
    },
    {
      "cell_type": "code",
      "metadata": {
        "id": "PqQlduTBF428",
        "outputId": "47ac6133-d8cd-443e-c9e4-2b0f0ecc5f31",
        "colab": {
          "base_uri": "https://localhost:8080/"
        }
      },
      "source": [
        "doc = nlp(\"Einstein lived in Zurich.\")\n",
        "print([(ent.text, ent.label_) for ent in doc.ents])\n"
      ],
      "execution_count": 57,
      "outputs": [
        {
          "output_type": "stream",
          "name": "stdout",
          "text": [
            "[('Einstein', 'PERSON'), ('Zurich', 'GPE')]\n"
          ]
        }
      ]
    },
    {
      "cell_type": "code",
      "metadata": {
        "id": "GlzPtgCfKaD7",
        "outputId": "22015b46-d8ce-46f3-ace4-653be4747ec0",
        "colab": {
          "base_uri": "https://localhost:8080/"
        }
      },
      "source": [
        "person_ents = [ent for ent in doc.ents if ent.label_ == \"PERSON\"]\n",
        "\n",
        "for person_ent in person_ents:\n",
        "    # We use head of the entity's last token\n",
        "    head = person_ent[-1].head\n",
        "    if head.lemma_ == \"live\":\n",
        "    #Check if the children of live contains prepositional attachment\n",
        "        preps = [token for token in head.children if token.dep_ == \"prep\"]\n",
        "    \n",
        "    for prep in preps:\n",
        "        places = [token for token in prep.children if token.ent_type_ == \"GPE\"]\n",
        "        # Verb is in past or present tense\n",
        "        print({'person': person_ent, 'city': places, 'past': head.tag_ == \"VBD\"})"
      ],
      "execution_count": 58,
      "outputs": [
        {
          "output_type": "stream",
          "name": "stdout",
          "text": [
            "{'person': Einstein, 'city': [Zurich], 'past': True}\n"
          ]
        }
      ]
    },
    {
      "cell_type": "code",
      "metadata": {
        "id": "S36JCKNmMTI-"
      },
      "source": [
        ""
      ],
      "execution_count": null,
      "outputs": []
    }
  ]
}