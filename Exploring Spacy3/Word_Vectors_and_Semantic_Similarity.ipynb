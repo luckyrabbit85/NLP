{
  "nbformat": 4,
  "nbformat_minor": 0,
  "metadata": {
    "colab": {
      "name": "Word Vectors and Semantic Similarity.ipynb",
      "provenance": [],
      "collapsed_sections": []
    },
    "kernelspec": {
      "name": "python3",
      "display_name": "Python 3"
    },
    "language_info": {
      "name": "python"
    }
  },
  "cells": [
    {
      "cell_type": "code",
      "metadata": {
        "id": "L3p-EdQWfzqM"
      },
      "source": [
        "pip install -U spacy"
      ],
      "execution_count": null,
      "outputs": []
    },
    {
      "cell_type": "code",
      "metadata": {
        "id": "w-6zVNotUEPl"
      },
      "source": [
        "import spacy"
      ],
      "execution_count": 2,
      "outputs": []
    },
    {
      "cell_type": "code",
      "metadata": {
        "id": "_hCUCykDg6Dq"
      },
      "source": [
        "!python -m spacy download en_core_web_md"
      ],
      "execution_count": null,
      "outputs": []
    },
    {
      "cell_type": "code",
      "metadata": {
        "id": "zFyLn3HrhG3b"
      },
      "source": [
        "nlp = spacy.load(\"en_core_web_md\")"
      ],
      "execution_count": 4,
      "outputs": []
    },
    {
      "cell_type": "code",
      "metadata": {
        "colab": {
          "base_uri": "https://localhost:8080/"
        },
        "id": "BecOSOp_lGgN",
        "outputId": "87fe1564-47e2-4552-f732-68a53230186b"
      },
      "source": [
        "doc = nlp(\"I ate banana\")\n",
        "doc[2].vector"
      ],
      "execution_count": 5,
      "outputs": [
        {
          "output_type": "execute_result",
          "data": {
            "text/plain": [
              "array([ 2.0228e-01, -7.6618e-02,  3.7032e-01,  3.2845e-02, -4.1957e-01,\n",
              "        7.2069e-02, -3.7476e-01,  5.7460e-02, -1.2401e-02,  5.2949e-01,\n",
              "       -5.2380e-01, -1.9771e-01, -3.4147e-01,  5.3317e-01, -2.5331e-02,\n",
              "        1.7380e-01,  1.6772e-01,  8.3984e-01,  5.5107e-02,  1.0547e-01,\n",
              "        3.7872e-01,  2.4275e-01,  1.4745e-02,  5.5951e-01,  1.2521e-01,\n",
              "       -6.7596e-01,  3.5842e-01, -4.0028e-02,  9.5949e-02, -5.0690e-01,\n",
              "       -8.5318e-02,  1.7980e-01,  3.3867e-01,  1.3230e-01,  3.1021e-01,\n",
              "        2.1878e-01,  1.6853e-01,  1.9874e-01, -5.7385e-01, -1.0649e-01,\n",
              "        2.6669e-01,  1.2838e-01, -1.2803e-01, -1.3284e-01,  1.2657e-01,\n",
              "        8.6723e-01,  9.6721e-02,  4.8306e-01,  2.1271e-01, -5.4990e-02,\n",
              "       -8.2425e-02,  2.2408e-01,  2.3975e-01, -6.2260e-02,  6.2194e-01,\n",
              "       -5.9900e-01,  4.3201e-01,  2.8143e-01,  3.3842e-02, -4.8815e-01,\n",
              "       -2.1359e-01,  2.7401e-01,  2.4095e-01,  4.5950e-01, -1.8605e-01,\n",
              "       -1.0497e+00, -9.7305e-02, -1.8908e-01, -7.0929e-01,  4.0195e-01,\n",
              "       -1.8768e-01,  5.1687e-01,  1.2520e-01,  8.4150e-01,  1.2097e-01,\n",
              "        8.8239e-02, -2.9196e-02,  1.2151e-03,  5.6825e-02, -2.7421e-01,\n",
              "        2.5564e-01,  6.9793e-02, -2.2258e-01, -3.6006e-01, -2.2402e-01,\n",
              "       -5.3699e-02,  1.2022e+00,  5.4535e-01, -5.7998e-01,  1.0905e-01,\n",
              "        4.2167e-01,  2.0662e-01,  1.2936e-01, -4.1457e-02, -6.6777e-01,\n",
              "        4.0467e-01, -1.5218e-02, -2.7640e-01, -1.5611e-01, -7.9198e-02,\n",
              "        4.0037e-02, -1.2944e-01, -2.4090e-04, -2.6785e-01, -3.8115e-01,\n",
              "       -9.7245e-01,  3.1726e-01, -4.3951e-01,  4.1934e-01,  1.8353e-01,\n",
              "       -1.5260e-01, -1.0808e-01, -1.0358e+00,  7.6217e-02,  1.6519e-01,\n",
              "        2.6526e-04,  1.6616e-01, -1.5281e-01,  1.8123e-01,  7.0274e-01,\n",
              "        5.7956e-03,  5.1664e-02, -5.9745e-02, -2.7551e-01, -3.9049e-01,\n",
              "        6.1132e-02,  5.5430e-01, -8.7997e-02, -4.1681e-01,  3.2826e-01,\n",
              "       -5.2549e-01, -4.4288e-01,  8.2183e-03,  2.4486e-01, -2.2982e-01,\n",
              "       -3.4981e-01,  2.6894e-01,  3.9166e-01, -4.1904e-01,  1.6191e-01,\n",
              "       -2.6263e+00,  6.4134e-01,  3.9743e-01, -1.2868e-01, -3.1946e-01,\n",
              "       -2.5633e-01, -1.2220e-01,  3.2275e-01, -7.9933e-02, -1.5348e-01,\n",
              "        3.1505e-01,  3.0591e-01,  2.6012e-01,  1.8553e-01, -2.4043e-01,\n",
              "        4.2886e-02,  4.0622e-01, -2.4256e-01,  6.3870e-01,  6.9983e-01,\n",
              "       -1.4043e-01,  2.5209e-01,  4.8984e-01, -6.1067e-02, -3.6766e-01,\n",
              "       -5.5089e-01, -3.8265e-01, -2.0843e-01,  2.2832e-01,  5.1218e-01,\n",
              "        2.7868e-01,  4.7652e-01,  4.7951e-02, -3.4008e-01, -3.2873e-01,\n",
              "       -4.1967e-01, -7.5499e-02, -3.8954e-01, -2.9622e-02, -3.4070e-01,\n",
              "        2.2170e-01, -6.2856e-02, -5.1903e-01, -3.7774e-01, -4.3477e-03,\n",
              "       -5.8301e-01, -8.7546e-02, -2.3929e-01, -2.4711e-01, -2.5887e-01,\n",
              "       -2.9894e-01,  1.3715e-01,  2.9892e-02,  3.6544e-02, -4.9665e-01,\n",
              "       -1.8160e-01,  5.2939e-01,  2.1992e-01, -4.4514e-01,  3.7798e-01,\n",
              "       -5.7062e-01, -4.6946e-02,  8.1806e-02,  1.9279e-02,  3.3246e-01,\n",
              "       -1.4620e-01,  1.7156e-01,  3.9981e-01,  3.6217e-01,  1.2816e-01,\n",
              "        3.1644e-01,  3.7569e-01, -7.4690e-02, -4.8480e-02, -3.1401e-01,\n",
              "       -1.9286e-01, -3.1294e-01, -1.7553e-02, -1.7514e-01, -2.7587e-02,\n",
              "       -1.0000e+00,  1.8387e-01,  8.1434e-01, -1.8913e-01,  5.0999e-01,\n",
              "       -9.1960e-03, -1.9295e-03,  2.8189e-01,  2.7247e-02,  4.3409e-01,\n",
              "       -5.4967e-01, -9.7426e-02, -2.4540e-01, -1.7203e-01, -8.8650e-02,\n",
              "       -3.0298e-01, -1.3591e-01, -2.7765e-01,  3.1286e-03,  2.0556e-01,\n",
              "       -1.5772e-01, -5.2308e-01, -6.4701e-01, -3.7014e-01,  6.9393e-02,\n",
              "        1.1401e-01,  2.7594e-01, -1.3875e-01, -2.7268e-01,  6.6891e-01,\n",
              "       -5.6454e-02,  2.4017e-01, -2.6730e-01,  2.9860e-01,  1.0083e-01,\n",
              "        5.5592e-01,  3.2849e-01,  7.6858e-02,  1.5528e-01,  2.5636e-01,\n",
              "       -1.0772e-01, -1.2359e-01,  1.1827e-01, -9.9029e-02, -3.4328e-01,\n",
              "        1.1502e-01, -3.7808e-01, -3.9012e-02, -3.4593e-01, -1.9404e-01,\n",
              "       -3.3580e-01, -6.2334e-02,  2.8919e-01,  2.8032e-01, -5.3741e-01,\n",
              "        6.2794e-01,  5.6955e-02,  6.2147e-01, -2.5282e-01,  4.1670e-01,\n",
              "       -1.0108e-02, -2.5434e-01,  4.0003e-01,  4.2432e-01,  2.2672e-01,\n",
              "        1.7553e-01,  2.3049e-01,  2.8323e-01,  1.3882e-01,  3.1218e-03,\n",
              "        1.7057e-01,  3.6685e-01,  2.5247e-03, -6.4009e-01, -2.9765e-01,\n",
              "        7.8943e-01,  3.3168e-01, -1.1966e+00, -4.7156e-02,  5.3175e-01],\n",
              "      dtype=float32)"
            ]
          },
          "metadata": {},
          "execution_count": 5
        }
      ]
    },
    {
      "cell_type": "code",
      "metadata": {
        "colab": {
          "base_uri": "https://localhost:8080/"
        },
        "id": "SD6-c_vflO2C",
        "outputId": "df4eb0e5-20f3-4c6b-d749-b54c71559e30"
      },
      "source": [
        "len(doc[2].vector)"
      ],
      "execution_count": 6,
      "outputs": [
        {
          "output_type": "execute_result",
          "data": {
            "text/plain": [
              "300"
            ]
          },
          "metadata": {},
          "execution_count": 6
        }
      ]
    },
    {
      "cell_type": "code",
      "metadata": {
        "id": "ZAELbwAIlUSy"
      },
      "source": [
        "doc = nlp(\"My name is JambalakadMamaba\")"
      ],
      "execution_count": 7,
      "outputs": []
    },
    {
      "cell_type": "code",
      "metadata": {
        "colab": {
          "base_uri": "https://localhost:8080/"
        },
        "id": "D0pmGTVJlfkC",
        "outputId": "ac1e830a-bdc4-43a4-bdce-a4db16f0f557"
      },
      "source": [
        "doc[3].vector"
      ],
      "execution_count": 8,
      "outputs": [
        {
          "output_type": "execute_result",
          "data": {
            "text/plain": [
              "array([0., 0., 0., 0., 0., 0., 0., 0., 0., 0., 0., 0., 0., 0., 0., 0., 0.,\n",
              "       0., 0., 0., 0., 0., 0., 0., 0., 0., 0., 0., 0., 0., 0., 0., 0., 0.,\n",
              "       0., 0., 0., 0., 0., 0., 0., 0., 0., 0., 0., 0., 0., 0., 0., 0., 0.,\n",
              "       0., 0., 0., 0., 0., 0., 0., 0., 0., 0., 0., 0., 0., 0., 0., 0., 0.,\n",
              "       0., 0., 0., 0., 0., 0., 0., 0., 0., 0., 0., 0., 0., 0., 0., 0., 0.,\n",
              "       0., 0., 0., 0., 0., 0., 0., 0., 0., 0., 0., 0., 0., 0., 0., 0., 0.,\n",
              "       0., 0., 0., 0., 0., 0., 0., 0., 0., 0., 0., 0., 0., 0., 0., 0., 0.,\n",
              "       0., 0., 0., 0., 0., 0., 0., 0., 0., 0., 0., 0., 0., 0., 0., 0., 0.,\n",
              "       0., 0., 0., 0., 0., 0., 0., 0., 0., 0., 0., 0., 0., 0., 0., 0., 0.,\n",
              "       0., 0., 0., 0., 0., 0., 0., 0., 0., 0., 0., 0., 0., 0., 0., 0., 0.,\n",
              "       0., 0., 0., 0., 0., 0., 0., 0., 0., 0., 0., 0., 0., 0., 0., 0., 0.,\n",
              "       0., 0., 0., 0., 0., 0., 0., 0., 0., 0., 0., 0., 0., 0., 0., 0., 0.,\n",
              "       0., 0., 0., 0., 0., 0., 0., 0., 0., 0., 0., 0., 0., 0., 0., 0., 0.,\n",
              "       0., 0., 0., 0., 0., 0., 0., 0., 0., 0., 0., 0., 0., 0., 0., 0., 0.,\n",
              "       0., 0., 0., 0., 0., 0., 0., 0., 0., 0., 0., 0., 0., 0., 0., 0., 0.,\n",
              "       0., 0., 0., 0., 0., 0., 0., 0., 0., 0., 0., 0., 0., 0., 0., 0., 0.,\n",
              "       0., 0., 0., 0., 0., 0., 0., 0., 0., 0., 0., 0., 0., 0., 0., 0., 0.,\n",
              "       0., 0., 0., 0., 0., 0., 0., 0., 0., 0., 0.], dtype=float32)"
            ]
          },
          "metadata": {},
          "execution_count": 8
        }
      ]
    },
    {
      "cell_type": "code",
      "metadata": {
        "colab": {
          "base_uri": "https://localhost:8080/"
        },
        "id": "_jjVJ4l4li76",
        "outputId": "5b4810c8-0dcd-4da5-def5-fc381bb88db9"
      },
      "source": [
        "doc[3].has_vector, doc[3].is_oov # out of vocabulary "
      ],
      "execution_count": 9,
      "outputs": [
        {
          "output_type": "execute_result",
          "data": {
            "text/plain": [
              "(False, True)"
            ]
          },
          "metadata": {},
          "execution_count": 9
        }
      ]
    },
    {
      "cell_type": "markdown",
      "metadata": {
        "id": "QKvkIiuqmBQK"
      },
      "source": [
        "### The similarity method\n",
        "\n",
        "The Doc and Span objects also have vectors. The vector of a sentence or a span is the average of its words' vectors"
      ]
    },
    {
      "cell_type": "code",
      "metadata": {
        "id": "idvwtX6DlwTZ"
      },
      "source": [
        "doc1 = nlp(\"I visited England.\")\n",
        "doc2 = nlp(\"I went to London.\")"
      ],
      "execution_count": 10,
      "outputs": []
    },
    {
      "cell_type": "code",
      "metadata": {
        "colab": {
          "base_uri": "https://localhost:8080/"
        },
        "id": "Nw1f-nSeoPqB",
        "outputId": "fc4bff0c-b1e2-43b5-985f-39d55fb791b2"
      },
      "source": [
        "doc1[1:3].similarity(doc2[1:4])"
      ],
      "execution_count": 11,
      "outputs": [
        {
          "output_type": "execute_result",
          "data": {
            "text/plain": [
              "0.6539691"
            ]
          },
          "metadata": {},
          "execution_count": 11
        }
      ]
    },
    {
      "cell_type": "code",
      "metadata": {
        "colab": {
          "base_uri": "https://localhost:8080/"
        },
        "id": "QdYYKHcyn0tR",
        "outputId": "8774f9ae-04d5-4c22-e4d1-302910a4700b"
      },
      "source": [
        "doc1[2].similarity(doc2[3])"
      ],
      "execution_count": 12,
      "outputs": [
        {
          "output_type": "execute_result",
          "data": {
            "text/plain": [
              "0.73891276"
            ]
          },
          "metadata": {},
          "execution_count": 12
        }
      ]
    },
    {
      "cell_type": "code",
      "metadata": {
        "colab": {
          "base_uri": "https://localhost:8080/"
        },
        "id": "M-RWMzEZoG1h",
        "outputId": "bf5291bc-34b7-4d7c-80bf-03933a81f352"
      },
      "source": [
        "doc1.similarity(doc2)"
      ],
      "execution_count": 13,
      "outputs": [
        {
          "output_type": "execute_result",
          "data": {
            "text/plain": [
              "0.8771558796234277"
            ]
          },
          "metadata": {},
          "execution_count": 13
        }
      ]
    },
    {
      "cell_type": "code",
      "metadata": {
        "colab": {
          "base_uri": "https://localhost:8080/"
        },
        "id": "_Ek6usLtoL7x",
        "outputId": "b4928e7a-bb10-49cd-f6d9-b85e914c7022"
      },
      "source": [
        "doc1.similarity(doc1)"
      ],
      "execution_count": 14,
      "outputs": [
        {
          "output_type": "execute_result",
          "data": {
            "text/plain": [
              "1.0"
            ]
          },
          "metadata": {},
          "execution_count": 14
        }
      ]
    },
    {
      "cell_type": "code",
      "metadata": {
        "id": "232Jhs4JoU_R"
      },
      "source": [
        "import numpy as np\n",
        "import matplotlib.pyplot as plt\n",
        "from sklearn.decomposition import PCA"
      ],
      "execution_count": 15,
      "outputs": []
    },
    {
      "cell_type": "code",
      "metadata": {
        "id": "2Wd4LfJUowrp"
      },
      "source": [
        "vocab = nlp(\"cat dog tiger elephant bird monkey lion cheetah burger pizza food cheese wine salad noodles macaroni fruit vegetable\")"
      ],
      "execution_count": 16,
      "outputs": []
    },
    {
      "cell_type": "code",
      "metadata": {
        "id": "u_4YUB0dozQh"
      },
      "source": [
        "words = [word.text for word in vocab]"
      ],
      "execution_count": 17,
      "outputs": []
    },
    {
      "cell_type": "code",
      "metadata": {
        "id": "RVTIbMP2o4GZ"
      },
      "source": [
        "vectors = np.vstack([word.vector for word in vocab if word.has_vector])"
      ],
      "execution_count": 18,
      "outputs": []
    },
    {
      "cell_type": "code",
      "metadata": {
        "id": "S6tCSXSBpWFy"
      },
      "source": [
        "pca = PCA(n_components=2)\n",
        "vectors_transformed = pca.fit_transform(vectors)"
      ],
      "execution_count": 19,
      "outputs": []
    },
    {
      "cell_type": "code",
      "metadata": {
        "colab": {
          "base_uri": "https://localhost:8080/",
          "height": 700
        },
        "id": "xLt6cL7Ipf45",
        "outputId": "ce63771f-3c87-4358-c6f4-028e7e959797"
      },
      "source": [
        "plt.figure(figsize=(16,12))\n",
        "plt.scatter(vectors_transformed[:,0], vectors_transformed[:,1])\n",
        "for word, coord in zip(words, vectors_transformed):\n",
        "    x,y = coord\n",
        "    plt.text(x,y,word, size=15)\n",
        "plt.show()"
      ],
      "execution_count": 20,
      "outputs": [
        {
          "output_type": "display_data",
          "data": {
            "image/png": "[encoded data removed]",
            "text/plain": [
              "<Figure size 1152x864 with 1 Axes>"
            ]
          },
          "metadata": {
            "needs_background": "light"
          }
        }
      ]
    },
    {
      "cell_type": "markdown",
      "metadata": {
        "id": "bElD21IBr4Na"
      },
      "source": [
        "### Using third-party word vectors"
      ]
    },
    {
      "cell_type": "code",
      "metadata": {
        "colab": {
          "base_uri": "https://localhost:8080/"
        },
        "id": "MoNyXdpPpqLx",
        "outputId": "f825ba86-68f2-4d4f-eed7-f97da5452bf9"
      },
      "source": [
        "!wget https://dl.fbaipublicfiles.com/fasttext/vectors-english/wiki-news-300d-1M-subword.vec.zip"
      ],
      "execution_count": 21,
      "outputs": [
        {
          "output_type": "stream",
          "name": "stdout",
          "text": [
            "--2021-10-29 13:02:25--  https://dl.fbaipublicfiles.com/fasttext/vectors-english/wiki-news-300d-1M-subword.vec.zip\n",
            "Resolving dl.fbaipublicfiles.com (dl.fbaipublicfiles.com)... 172.67.9.4, 104.22.74.142, 104.22.75.142, ...\n",
            "Connecting to dl.fbaipublicfiles.com (dl.fbaipublicfiles.com)|172.67.9.4|:443... connected.\n",
            "HTTP request sent, awaiting response... 200 OK\n",
            "Length: 587879973 (561M) [application/zip]\n",
            "Saving to: ‘wiki-news-300d-1M-subword.vec.zip’\n",
            "\n",
            "wiki-news-300d-1M-s 100%[===================>] 560.65M  21.6MB/s    in 27s     \n",
            "\n",
            "2021-10-29 13:02:52 (21.0 MB/s) - ‘wiki-news-300d-1M-subword.vec.zip’ saved [587879973/587879973]\n",
            "\n"
          ]
        }
      ]
    },
    {
      "cell_type": "code",
      "metadata": {
        "colab": {
          "base_uri": "https://localhost:8080/"
        },
        "id": "X_WvEDr9r9wx",
        "outputId": "4c726d5e-801d-48a7-9be1-4b790eef0a65"
      },
      "source": [
        "!unzip wiki-news-300d-1M-subword.vec.zip"
      ],
      "execution_count": 22,
      "outputs": [
        {
          "output_type": "stream",
          "name": "stdout",
          "text": [
            "Archive:  wiki-news-300d-1M-subword.vec.zip\n",
            "  inflating: wiki-news-300d-1M-subword.vec  \n"
          ]
        }
      ]
    },
    {
      "cell_type": "code",
      "metadata": {
        "colab": {
          "base_uri": "https://localhost:8080/"
        },
        "id": "qy54nMsBsnMx",
        "outputId": "d6472ff8-5345-4014-8e70-d81cca07352d"
      },
      "source": [
        "!python -m spacy init vectors en wiki-news-300d-1M-subword.vec en_subwords_wiki_lg"
      ],
      "execution_count": 23,
      "outputs": [
        {
          "output_type": "stream",
          "name": "stdout",
          "text": [
            "\u001b[38;5;4mℹ Creating blank nlp object for language 'en'\u001b[0m\n",
            "[2021-10-29 13:03:29,263] [INFO] Reading vectors from wiki-news-300d-1M-subword.vec\n",
            "tcmalloc: large alloc 1199996928 bytes == 0x55a0f3fda000 @  0x7f118618c001 0x7f1183c8a54f 0x7f1183cdab58 0x7f1183cdeb17 0x7f1183d7d203 0x55a0ea762544 0x55a0ea762240 0x55a0ea7d6627 0x55a0ea763afa 0x55a0ea7d1915 0x55a0ea7d0ced 0x55a0ea763bda 0x55a0ea7d2737 0x55a0ea7d09ee 0x55a0ea6a2e2b 0x55a0ea7d2fe4 0x55a0ea7d0ced 0x55a0ea6a2e2b 0x55a0ea7d2fe4 0x55a0ea7d09ee 0x55a0ea76448c 0x55a0ea764698 0x55a0ea7d2fe4 0x55a0ea763afa 0x55a0ea7d1c0d 0x55a0ea7d0ced 0x55a0ea763bda 0x55a0ea7d1c0d 0x55a0ea7d0ced 0x55a0ea763bda 0x55a0ea7d1c0d\n",
            "999994it [01:09, 14382.93it/s]\n",
            "[2021-10-29 13:04:39,570] [INFO] Loaded vectors from wiki-news-300d-1M-subword.vec\n",
            "\u001b[38;5;2m✔ Successfully converted 999994 vectors\u001b[0m\n",
            "\u001b[38;5;2m✔ Saved nlp object with vectors to output directory. You can now use\n",
            "the path to it in your config as the 'vectors' setting in [initialize].\u001b[0m\n",
            "/content/en_subwords_wiki_lg\n"
          ]
        }
      ]
    },
    {
      "cell_type": "code",
      "metadata": {
        "id": "BQ-3Lmrosyf6"
      },
      "source": [
        "nlp = spacy.load(\"en_subwords_wiki_lg\")"
      ],
      "execution_count": 24,
      "outputs": []
    },
    {
      "cell_type": "code",
      "metadata": {
        "id": "F0EnC7UGvGHy"
      },
      "source": [
        "doc = nlp(\"I want Mango.\")"
      ],
      "execution_count": 25,
      "outputs": []
    },
    {
      "cell_type": "code",
      "metadata": {
        "colab": {
          "base_uri": "https://localhost:8080/"
        },
        "id": "RiGaHix_vLkJ",
        "outputId": "09f65d0c-deb9-4825-f133-47a2f7fa5e62"
      },
      "source": [
        "doc[1].vector"
      ],
      "execution_count": 26,
      "outputs": [
        {
          "output_type": "execute_result",
          "data": {
            "text/plain": [
              "array([ 0.0103,  0.0155,  0.0095, -0.0107, -0.0165,  0.0018,  0.001 ,\n",
              "       -0.0567, -0.0156, -0.0216, -0.0526,  0.0553,  0.0077,  0.0076,\n",
              "       -0.0052, -0.0184,  0.0325, -0.0026,  0.0723, -0.0249,  0.0117,\n",
              "       -0.0067, -0.0106,  0.0526, -0.0109, -0.0104,  0.0409,  0.0158,\n",
              "       -0.0324, -0.004 , -0.0235,  0.0152, -0.0016,  0.0102,  0.014 ,\n",
              "       -0.0295,  0.0165, -0.0039,  0.0049,  0.0237, -0.0091,  0.0027,\n",
              "       -0.0215, -0.003 , -0.0033, -0.065 , -0.0152, -0.017 ,  0.0103,\n",
              "        0.008 ,  0.033 ,  0.0014, -0.027 , -0.0257, -0.0937,  0.0057,\n",
              "       -0.0165, -0.0245, -0.0531,  0.0045,  0.0065,  0.0229,  0.0697,\n",
              "        0.0155,  0.0166,  0.0174, -0.0128, -0.0243,  0.0145, -0.0175,\n",
              "        0.0148, -0.0099,  0.0572, -0.0356,  0.0488, -0.0186,  0.0277,\n",
              "       -0.0456, -0.0178,  0.0049, -0.0451,  0.0303,  0.0059,  0.0745,\n",
              "       -0.0194, -0.0203, -0.0083, -0.0057, -0.0112,  0.0176,  0.0013,\n",
              "        0.0021, -0.0693, -0.0549,  0.0269, -0.055 ,  0.0174,  0.0286,\n",
              "       -0.0016,  0.0067, -0.0067,  0.0282,  0.0252,  0.0127,  0.0203,\n",
              "       -0.0774,  0.0154, -0.0317,  0.0057,  0.0139,  0.0159, -0.0331,\n",
              "        0.0376, -0.0014, -0.0103, -0.0009, -0.0584, -0.0124, -0.0182,\n",
              "       -0.026 , -0.0097, -0.0079,  0.0162, -0.0635,  0.0523,  0.0246,\n",
              "       -0.0134,  0.0197,  0.0008,  0.0866, -0.0315,  0.0345,  0.0192,\n",
              "        0.0183, -0.0017, -0.0276, -0.0039,  0.033 ,  0.0169,  0.0349,\n",
              "        0.0115, -0.0042,  0.0138,  0.0101, -0.0323,  0.0367,  0.0041,\n",
              "        0.0004,  0.0301,  0.0358,  0.0501,  0.1244, -0.0062, -0.0418,\n",
              "        0.019 ,  0.0151,  0.0196,  0.0063,  0.0282, -0.079 ,  0.0183,\n",
              "        0.0153,  0.0135,  0.0112, -0.0076, -0.0409,  0.0201,  0.0341,\n",
              "       -0.0217, -0.003 ,  0.0048, -0.0073, -0.0011, -0.02  , -0.0186,\n",
              "        0.0509, -0.0324,  0.0304,  0.0536,  0.0065,  0.0017, -0.0077,\n",
              "        0.0069, -0.0149,  0.0241, -0.0666, -0.0118,  0.1099, -0.0183,\n",
              "       -0.0115, -0.0051,  0.0608, -0.0225,  0.0203, -0.0108, -0.003 ,\n",
              "        0.02  , -0.0054, -0.0082,  0.02  , -0.0341,  0.0539, -0.023 ,\n",
              "       -0.024 , -0.014 , -0.0211,  0.0167,  0.0026, -0.0061, -0.0404,\n",
              "       -0.0705, -0.0134,  0.0214, -0.0178, -0.0253, -0.0098,  0.0123,\n",
              "       -0.0222, -0.0185, -0.0303,  0.0502, -0.0108, -0.0014,  0.0752,\n",
              "        0.0347, -0.0146,  0.0078,  0.1038,  0.0173, -0.0257, -0.0111,\n",
              "       -0.0901, -0.0503, -0.0299, -0.0211,  0.0313,  0.0037,  0.0041,\n",
              "       -0.0037, -0.0453,  0.1239, -0.0016, -0.0208,  0.0139, -0.0476,\n",
              "       -0.013 , -0.0029, -0.0439,  0.0161, -0.0264,  0.037 , -0.0082,\n",
              "       -0.0149,  0.0087,  0.01  ,  0.0006, -0.0432,  0.0102, -0.0262,\n",
              "        0.0171, -0.0176,  0.0345,  0.0216, -0.0559, -0.0197,  0.0019,\n",
              "       -0.0233,  0.0596, -0.0085,  0.0198,  0.0047,  0.0552, -0.0654,\n",
              "       -0.0155,  0.0219, -0.0308, -0.0083, -0.0122,  0.0193, -0.0224,\n",
              "       -0.0801, -0.0023,  0.0184, -0.0078, -0.004 ,  0.0073, -0.0101,\n",
              "        0.0149,  0.0084, -0.0262, -0.0291, -0.0169,  0.0074,  0.0249,\n",
              "       -0.0192, -0.006 , -0.0075, -0.0025, -0.0337,  0.0137],\n",
              "      dtype=float32)"
            ]
          },
          "metadata": {},
          "execution_count": 26
        }
      ]
    },
    {
      "cell_type": "code",
      "metadata": {
        "colab": {
          "base_uri": "https://localhost:8080/"
        },
        "id": "Zad4GI7QvVaK",
        "outputId": "d017177b-b419-4cd1-84fd-ec3dc75bcad9"
      },
      "source": [
        "nlp.pipe_names"
      ],
      "execution_count": 27,
      "outputs": [
        {
          "output_type": "execute_result",
          "data": {
            "text/plain": [
              "[]"
            ]
          },
          "metadata": {},
          "execution_count": 27
        }
      ]
    },
    {
      "cell_type": "markdown",
      "metadata": {
        "id": "MXZ9ndNwvmyJ"
      },
      "source": [
        "This model is blank. it does not contain any other pipeline components\n",
        "\n",
        "### Semantic Similarity\n",
        "\n",
        "spaCy uses cosine similarity to calculate semantic similarity. Hence, calling the similarity method helps us make cosine similarity calculations."
      ]
    },
    {
      "cell_type": "code",
      "metadata": {
        "id": "q1RYRw2wJT3Y"
      },
      "source": [
        "nlp = spacy.load(\"en_core_web_md\")"
      ],
      "execution_count": 28,
      "outputs": []
    },
    {
      "cell_type": "code",
      "metadata": {
        "id": "CpAWkBMEvl8w"
      },
      "source": [
        "sentences = nlp(\"I purchased a science fiction book last week. I loved everything related to this fragrance: light, floral and feminine... I purchased a bottle of wine.\")"
      ],
      "execution_count": 29,
      "outputs": []
    },
    {
      "cell_type": "code",
      "metadata": {
        "id": "zXExEPFdviI5"
      },
      "source": [
        "key = nlp(\"perfume\")"
      ],
      "execution_count": 30,
      "outputs": []
    },
    {
      "cell_type": "code",
      "metadata": {
        "colab": {
          "base_uri": "https://localhost:8080/"
        },
        "id": "9ZZ6wZPJwb6I",
        "outputId": "96540447-0223-4e22-e1cb-6513688bfe2c"
      },
      "source": [
        "for sent in sentences.sents:\n",
        "    print(sent.similarity(key))\n"
      ],
      "execution_count": 32,
      "outputs": [
        {
          "output_type": "stream",
          "name": "stdout",
          "text": [
            "0.2481654331382154\n",
            "0.5075297559861377\n",
            "0.4215429463030136\n"
          ]
        }
      ]
    },
    {
      "cell_type": "markdown",
      "metadata": {
        "id": "Oxhze24oNGbU"
      },
      "source": [
        "Extracting important words"
      ]
    },
    {
      "cell_type": "code",
      "metadata": {
        "id": "_iXfmrcWwl2J",
        "colab": {
          "base_uri": "https://localhost:8080/"
        },
        "outputId": "f035b7ea-2017-46fb-a395-7412c6e55c03"
      },
      "source": [
        "for sent in sentences.sents:\n",
        "  nchunks = [nchunk.text for nchunk in sent.noun_chunks]\n",
        "  nchunk_doc = nlp(\" \".join(nchunks))\n",
        "  print(nchunk_doc.similarity(key))"
      ],
      "execution_count": 37,
      "outputs": [
        {
          "output_type": "stream",
          "name": "stdout",
          "text": [
            "0.21390893517254456\n",
            "0.6370830556977022\n",
            "0.44506391511570403\n"
          ]
        }
      ]
    },
    {
      "cell_type": "markdown",
      "metadata": {
        "id": "xQ-4pcCvOCR0"
      },
      "source": [
        "Extracting and comparing named entities"
      ]
    },
    {
      "cell_type": "code",
      "metadata": {
        "id": "WWRPCS_xNQzG"
      },
      "source": [
        "doc1 = nlp(\"Google Search, often referred as Google, is the most popular search engine nowadays. It answers a huge volume of queries every day.\")\n",
        "doc2 = nlp(\"Microsoft Bing is another popular search engine. Microsoft is known by its star product Microsoft Windows, a popular operating system sold over the world.\")\n",
        "doc3 = nlp(\"The Dead Sea is the lowest lake in the world, located in the Jordan Valley of Israel. It is also the saltiest lake in the world.\")"
      ],
      "execution_count": 38,
      "outputs": []
    },
    {
      "cell_type": "code",
      "metadata": {
        "colab": {
          "base_uri": "https://localhost:8080/"
        },
        "id": "qwYeeYCuOL5T",
        "outputId": "6d905113-3d8d-44c0-b1a2-ceca9069ea61"
      },
      "source": [
        "print(doc1.ents)\n",
        "print(doc2.ents)\n",
        "print(doc3.ents)"
      ],
      "execution_count": 40,
      "outputs": [
        {
          "output_type": "stream",
          "name": "stdout",
          "text": [
            "(Google Search, Google, every day)\n",
            "(Microsoft Bing, Microsoft, Microsoft, Windows)\n",
            "(The Dead Sea, the Jordan Valley, Israel)\n"
          ]
        }
      ]
    },
    {
      "cell_type": "code",
      "metadata": {
        "id": "igdjFxrDORNF"
      },
      "source": [
        "ents1 = [ent.text for ent in doc1.ents]\n",
        "ents2 = [ent.text for ent in doc2.ents]\n",
        "ents3 = [ent.text for ent in doc3.ents]\n",
        "ents1 = nlp(\" \".join(ents1))\n",
        "ents2 = nlp(\" \".join(ents2))\n",
        "ents3 = nlp(\" \".join(ents3))"
      ],
      "execution_count": 41,
      "outputs": []
    },
    {
      "cell_type": "code",
      "metadata": {
        "colab": {
          "base_uri": "https://localhost:8080/"
        },
        "id": "LbdFiTEkOeem",
        "outputId": "3b1ed37c-923b-4354-8b5f-e1206033efb5"
      },
      "source": [
        "print(ents1.similarity(ents2))\n",
        "print(ents1.similarity(ents3))\n",
        "print(ents2.similarity(ents3))"
      ],
      "execution_count": 43,
      "outputs": [
        {
          "output_type": "stream",
          "name": "stdout",
          "text": [
            "0.5394545697831438\n",
            "0.5596506323000792\n",
            "0.36244710903224026\n"
          ]
        }
      ]
    },
    {
      "cell_type": "code",
      "metadata": {
        "id": "Y4g0KkD_Ojvb"
      },
      "source": [
        ""
      ],
      "execution_count": null,
      "outputs": []
    }
  ]
}