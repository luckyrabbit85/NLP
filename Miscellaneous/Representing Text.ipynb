{
 "cells": [
  {
   "cell_type": "markdown",
   "id": "1be9a93f",
   "metadata": {},
   "source": [
    "## Representing Text"
   ]
  },
  {
   "cell_type": "markdown",
   "id": "8c604cd2",
   "metadata": {},
   "source": [
    "**Bag of Words**"
   ]
  },
  {
   "cell_type": "code",
   "execution_count": 16,
   "id": "81b8ece5",
   "metadata": {},
   "outputs": [
    {
     "name": "stdout",
     "output_type": "stream",
     "text": [
      "['carpentry', 'change', 'climate', 'good', 'job', 'learning', 'like', 'machine']\n",
      "\n",
      "\n",
      "   carpentry  change  climate  good  job  learning  like  machine\n",
      "0          1       0        0     1    1         0     0        0\n",
      "1          0       0        0     0    0         1     1        1\n",
      "2          0       1        1     1    0         0     0        0\n"
     ]
    }
   ],
   "source": [
    "import pandas as pd\n",
    "from sklearn.feature_extraction.text import CountVectorizer, TfidfVectorizer\n",
    " \n",
    "sentences =[\"Carpentry is a good job\", \"I like machine learning\", \"climate change is not good for us\"]\n",
    " \n",
    "vectorizer = CountVectorizer(stop_words='english')\n",
    "vectorizer_data = vectorizer.fit_transform(sentences)\n",
    "print(vectorizer.get_feature_names())\n",
    "print(\"\\n\")\n",
    " \n",
    "BOW_dataframe = pd.DataFrame(vectorizer_data.toarray(),columns=vectorizer.get_feature_names())\n",
    "print(BOW_dataframe)"
   ]
  },
  {
   "cell_type": "markdown",
   "id": "d449c2eb",
   "metadata": {},
   "source": [
    "**N-grams**"
   ]
  },
  {
   "cell_type": "markdown",
   "id": "749f1a98",
   "metadata": {},
   "source": [
    "**TF-IDF**"
   ]
  },
  {
   "cell_type": "markdown",
   "id": "a4c6abc8",
   "metadata": {},
   "source": [
    "**Word Embeddings**"
   ]
  },
  {
   "cell_type": "markdown",
   "id": "a64bd869",
   "metadata": {},
   "source": [
    "**USING BERT instead word embeddings**"
   ]
  },
  {
   "cell_type": "code",
   "execution_count": null,
   "id": "1ad1d8fa",
   "metadata": {},
   "outputs": [],
   "source": []
  }
 ],
 "metadata": {
  "kernelspec": {
   "display_name": "Python 3",
   "language": "python",
   "name": "python3"
  },
  "language_info": {
   "codemirror_mode": {
    "name": "ipython",
    "version": 3
   },
   "file_extension": ".py",
   "mimetype": "text/x-python",
   "name": "python",
   "nbconvert_exporter": "python",
   "pygments_lexer": "ipython3",
   "version": "3.8.8"
  }
 },
 "nbformat": 4,
 "nbformat_minor": 5
}
