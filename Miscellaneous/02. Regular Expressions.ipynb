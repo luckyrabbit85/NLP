{
  "nbformat": 4,
  "nbformat_minor": 0,
  "metadata": {
    "colab": {
      "name": "Regular Expressions.ipynb",
      "provenance": []
    },
    "kernelspec": {
      "name": "python3",
      "display_name": "Python 3"
    }
  },
  "cells": [
    {
      "cell_type": "markdown",
      "metadata": {
        "id": "ecYnWlyCm7NO"
      },
      "source": [
        "# **Regular Expressions**\n",
        "\n",
        "- A sequence of characters that defines a search pattern.\n",
        "- '\\d' means any character between 0 and 9 where d is digit (Meta character)\n",
        "- Literal characters are characters that are specified and will always occur.\n",
        "- Meta characters are characters that are more generalized not specific.\n",
        "- E.g. to match a number in the format \"917-55-1234\", the regular expression will be \"\\d\\d\\d-\\d\\d\\d-\\d\\d\\d\\d\""
      ]
    },
    {
      "cell_type": "code",
      "metadata": {
        "colab": {
          "base_uri": "https://localhost:8080/"
        },
        "id": "KVI-Fijrm-0J",
        "outputId": "0325bec7-1e75-41ee-a2ea-b39de556f435"
      },
      "source": [
        "# For example matching a time format\n",
        "\n",
        "import re\n",
        "\n",
        "line = \"Jan  3 07:57:39 Kali sshd[1397]: Failed password 02:12:36 for root from 172.16.12.55 port 34380 ssh2\"\n",
        "\n",
        "regex = \"\\d+\"\n",
        "result = re.findall(regex, line) # returns all of the digit matches as a list\n",
        "first_result = re.findall(regex, line)[0] # returns first match\n",
        "\n",
        "print(result)\n",
        "print(first_result)"
      ],
      "execution_count": null,
      "outputs": [
        {
          "output_type": "stream",
          "text": [
            "['3', '07', '57', '39', '1397', '02', '12', '36', '172', '16', '12', '55', '34380', '2']\n",
            "3\n"
          ],
          "name": "stdout"
        }
      ]
    },
    {
      "cell_type": "markdown",
      "metadata": {
        "id": "vvaHNnp9pAhK"
      },
      "source": [
        "- '.' means any character, and '*' means 0 or more \n",
        "- For example, if we write a regular expression \"rainbow.*\", it means all data that begins with rainbow, could be rainbow123, rainbow boy, rainbow city etc.\n",
        "- '.*' is a wildcard that matches the universe"
      ]
    },
    {
      "cell_type": "markdown",
      "metadata": {
        "id": "X0xsYv9RpK7J"
      },
      "source": [
        "## Meta characters\n",
        "    \n",
        "### Single Characters\n",
        "    \n",
        "- '\\d' matches any character between 0 and 9 where d means digit\n",
        "- '\\w' matches any character A-Za-z0-9 where w means word\n",
        "- '\\s' matches any whitespace (can match a space, a tab etc.)\n",
        "- '.' matches any character whatsoever\n",
        "- Capitalizing 'd' or 'w' or 's' makes the expression the opposite\n",
        "     \n",
        "     \n",
        "### Quantifiers\n",
        "  \n",
        "  \n",
        "- They are meta characters that modify the previous character in a regular expression. (e.g. how many of those things you want to match in a row)\n",
        "- '*' matches 0 or more \n",
        "- '+' matches 1 or more \n",
        "- '?' matches 0 or 1 (optional)\n",
        "- {n} matches all n\n",
        "- {min, max}\n",
        "\n",
        "For example, '\\w\\w\\w' means match all first 3 words. Also, '\\w{3}' does the same thing\n",
        "\n"
      ]
    },
    {
      "cell_type": "code",
      "metadata": {
        "colab": {
          "base_uri": "https://localhost:8080/"
        },
        "id": "FxVFfyEPovyc",
        "outputId": "ba9cd2ca-4c9b-4080-a094-f3dc04d5b0e0"
      },
      "source": [
        "word = \"I just realized how interesting coding is\"\n",
        "\n",
        "regex = \"\\w+\"\n",
        "result = re.findall(regex, word) # returns each word as a list\n",
        "\n",
        "print(result)"
      ],
      "execution_count": null,
      "outputs": [
        {
          "output_type": "stream",
          "text": [
            "['I', 'just', 'realized', 'how', 'interesting', 'coding', 'is']\n"
          ],
          "name": "stdout"
        }
      ]
    },
    {
      "cell_type": "code",
      "metadata": {
        "colab": {
          "base_uri": "https://localhost:8080/"
        },
        "id": "5BqAIt4AqQ9k",
        "outputId": "7efaeee7-1720-46f9-e365-130039236822"
      },
      "source": [
        "word = \"The colors of the rainbow has many colours and the rainbow does not have a single colour\"\n",
        "\n",
        "regex = \"colou?rs?\" # ? before a string signifies that the string is optional\n",
        "result = re.findall(regex, word) # returns all of the matches as a list\n",
        "\n",
        "print(result)"
      ],
      "execution_count": null,
      "outputs": [
        {
          "output_type": "stream",
          "text": [
            "['colors', 'colours', 'colour']\n"
          ],
          "name": "stdout"
        }
      ]
    },
    {
      "cell_type": "code",
      "metadata": {
        "colab": {
          "base_uri": "https://localhost:8080/"
        },
        "id": "IFp21L0Sq307",
        "outputId": "425f948f-a51d-4a93-b565-2c5397faa128"
      },
      "source": [
        "word = \"I just realized how interesting coding is\"\n",
        "\n",
        "regex = \"\\w{3}\"\n",
        "result = re.findall(regex, word) # returns the first three character of each word as a list\n",
        "\n",
        "print(result)"
      ],
      "execution_count": null,
      "outputs": [
        {
          "output_type": "stream",
          "text": [
            "['jus', 'rea', 'liz', 'how', 'int', 'ere', 'sti', 'cod', 'ing']\n"
          ],
          "name": "stdout"
        }
      ]
    },
    {
      "cell_type": "markdown",
      "metadata": {
        "id": "vQTqzoL1rdrK"
      },
      "source": [
        "In the example below, we get to see that '.*' is greedy by default. It will continue to match until it can no more match "
      ]
    },
    {
      "cell_type": "code",
      "metadata": {
        "colab": {
          "base_uri": "https://localhost:8080/"
        },
        "id": "oAD9hgn8rKQU",
        "outputId": "5606cc84-9d89-4570-8c6a-7abb770c81d9"
      },
      "source": [
        "word = \"[Google](http://google.com), [test] \\n [itp](http:itp.nyu.edu)\"\n",
        "\n",
        "regex = r\"\\[.*\\]\"\n",
        "result = re.findall(regex, word) # return s all of the matches as a list\n",
        "\n",
        "print(result)"
      ],
      "execution_count": null,
      "outputs": [
        {
          "output_type": "stream",
          "text": [
            "['[Google](http://google.com), [test]', '[itp]']\n"
          ],
          "name": "stdout"
        }
      ]
    },
    {
      "cell_type": "markdown",
      "metadata": {
        "id": "nYcl9VrisUNq"
      },
      "source": [
        "Note that '?' paired with a quantifier makes '.*' not greedy"
      ]
    },
    {
      "cell_type": "code",
      "metadata": {
        "colab": {
          "base_uri": "https://localhost:8080/"
        },
        "id": "5i_NgQtNsV9k",
        "outputId": "ffcd052d-8937-43e3-ef25-3297c8c004a3"
      },
      "source": [
        "word = \"[Google](http://google.com), [test] \\n [itp](http:itp.nyu.edu)\"\n",
        "regex = \"\\[.*?\\]\"\n",
        "result = re.findall(regex, word) # returns all of the matches as a list\n",
        "print(result)"
      ],
      "execution_count": null,
      "outputs": [
        {
          "output_type": "stream",
          "text": [
            "['[Google]', '[test]', '[itp]']\n"
          ],
          "name": "stdout"
        }
      ]
    },
    {
      "cell_type": "markdown",
      "metadata": {
        "id": "cKHmcyuHs1_F"
      },
      "source": [
        "### Position\n",
        "\n",
        "- They are meta characters that matches the position of a character in the string itself. \n",
        "- '^' means beginning\n",
        "- '$' means end\n",
        "- '\\b' word boundary (it is advisable to use escape before it (i.e. \"\\\\b\") otherwise \\b means a backspace characters"
      ]
    },
    {
      "cell_type": "code",
      "metadata": {
        "colab": {
          "base_uri": "https://localhost:8080/"
        },
        "id": "3avxo-dtseO6",
        "outputId": "a57a79e7-47cc-4c5b-fdcb-7d9f3820aae2"
      },
      "source": [
        "word = \"The colors of the rainbow has many colours and the rainbow does not have a single colour\"\n",
        "\n",
        "# regex = \"\\w+$\" # means 1 or more word characters at the end of a line.\n",
        "# regex = \"^\\w+$\" # means 1 or more word characters at the beginning and end of a line (equally just a line with just one word).\n",
        "regex = \"^\\w+\" # means the beginning of a line followed by 1 or more word characters\n",
        "result = re.findall(regex, word) # returns all of the matches as a list\n",
        "\n",
        "print(result)"
      ],
      "execution_count": null,
      "outputs": [
        {
          "output_type": "stream",
          "text": [
            "['The']\n"
          ],
          "name": "stdout"
        }
      ]
    },
    {
      "cell_type": "code",
      "metadata": {
        "colab": {
          "base_uri": "https://localhost:8080/"
        },
        "id": "gRbjRDmZtzvT",
        "outputId": "d0de001b-f15a-42ea-e131-5d557b564a1d"
      },
      "source": [
        "word = \"The colors of the rainbow has many colours and the rainbow does not have a single colour\"\n",
        "\n",
        "regex = \"\\\\b\\w{3}\\\\b\" # this matches 3 word characters specifically\n",
        "result = re.findall(regex, word) # returns all of the matches as a list\n",
        "\n",
        "print(result)"
      ],
      "execution_count": null,
      "outputs": [
        {
          "output_type": "stream",
          "text": [
            "['The', 'the', 'has', 'and', 'the', 'not']\n"
          ],
          "name": "stdout"
        }
      ]
    },
    {
      "cell_type": "code",
      "metadata": {
        "colab": {
          "base_uri": "https://localhost:8080/"
        },
        "id": "RqxzN1iMuclr",
        "outputId": "b278de26-d1cc-425e-976e-3cbfad082762"
      },
      "source": [
        "word = \"The colors of the rainbow has many colours and the rainbow does not have a single colour\"\n",
        "regex = \"\\\\b\\w{5,9}\\\\b\" # this matches 5 to 9 word characters specifically\n",
        "result = re.findall(regex, word) # returns all of the matches as a list\n",
        "print(result)"
      ],
      "execution_count": null,
      "outputs": [
        {
          "output_type": "stream",
          "text": [
            "['colors', 'rainbow', 'colours', 'rainbow', 'single', 'colour']\n"
          ],
          "name": "stdout"
        }
      ]
    },
    {
      "cell_type": "code",
      "metadata": {
        "colab": {
          "base_uri": "https://localhost:8080/"
        },
        "id": "NC7XLpLQupX4",
        "outputId": "579fdea6-71c2-4e7a-a999-c1d3802c538b"
      },
      "source": [
        "# shallow copy copies by referencing the original value, while deep copy copies with no reference\n",
        "import copy \n",
        "x = [1,[2]] \n",
        "y = copy.copy(x) \n",
        "z = copy.deepcopy(x) \n",
        "y is z "
      ],
      "execution_count": null,
      "outputs": [
        {
          "output_type": "execute_result",
          "data": {
            "text/plain": [
              "False"
            ]
          },
          "metadata": {
            "tags": []
          },
          "execution_count": 14
        }
      ]
    },
    {
      "cell_type": "markdown",
      "metadata": {
        "id": "Z0n3xq8vwJIx"
      },
      "source": [
        "## Character classes\n",
        "  \n",
        "\n",
        "- Character classes are stuffs that appear in between square brackets.\n",
        "- Each string inside the square brackets are alternatives to each other\n",
        "- Also, characters in the square brackets do not possess there meta characteristics, instead they are just literal characters.\n"
      ]
    },
    {
      "cell_type": "code",
      "metadata": {
        "colab": {
          "base_uri": "https://localhost:8080/"
        },
        "id": "AgYmw9nvwa-I",
        "outputId": "5e842d02-e1af-457f-b5ef-8e8225deb88e"
      },
      "source": [
        "word = \"lynk is not the correct spelling of link\"\n",
        "\n",
        "regex = \"l[yi]nk\" # this matches either link or lynk\n",
        "result = re.findall(regex, word) # returns all of the matches as a list\n",
        "\n",
        "print(result)"
      ],
      "execution_count": null,
      "outputs": [
        {
          "output_type": "stream",
          "text": [
            "['lynk', 'link']\n"
          ],
          "name": "stdout"
        }
      ]
    },
    {
      "cell_type": "markdown",
      "metadata": {
        "id": "9UvkOvrXxtLL"
      },
      "source": [
        "- The only two special characters inside the square brackets are the '-' and '^'\n",
        "- '-' inside a square brackets can be used when we want to get a range of strings, e.g. 'a-z1-9' matches any character from a to z and from 1 to 9"
      ]
    },
    {
      "cell_type": "code",
      "metadata": {
        "colab": {
          "base_uri": "https://localhost:8080/"
        },
        "id": "ja2D89HMwbsS",
        "outputId": "362e2f8c-06c8-4813-8a03-b51772d276dd"
      },
      "source": [
        "word = \"I am in my 400L, I am currently XX years of age in the year 2018\"\n",
        "\n",
        "regex = \"[0-3]{2}\" # this matches characters from 0 to 3 and is max of two characters long\n",
        "result = re.findall(regex, word) # returns all of the matches as a list\n",
        "\n",
        "print(result)"
      ],
      "execution_count": null,
      "outputs": [
        {
          "output_type": "stream",
          "text": [
            "['00', '20']\n"
          ],
          "name": "stdout"
        }
      ]
    },
    {
      "cell_type": "markdown",
      "metadata": {
        "id": "YbSqhsEkzXYb"
      },
      "source": [
        "- '^' inside a square brackets can be used when we want to get anything that is not amongst the remaining characters after it.\n",
        "- Note that if '^' is not located at the beginning, after the first pair of square brackets, then it isn't a special/meta character again, but a literal one."
      ]
    },
    {
      "cell_type": "code",
      "metadata": {
        "colab": {
          "base_uri": "https://localhost:8080/"
        },
        "id": "2nenn6vhx2Yk",
        "outputId": "f84254a5-ee67-4cd9-b196-20b215f2fd1c"
      },
      "source": [
        "word = \"I am in my 400L, I am currently XX years of age in the year 2018\"\n",
        "\n",
        "regex = \"[^0-3]{2}\" # this matches characters from 0 to 3 and is max of two characters long\n",
        "result = re.findall(regex, word) # returns all of the matches as a list\n",
        "\n",
        "print(result)"
      ],
      "execution_count": null,
      "outputs": [
        {
          "output_type": "stream",
          "text": [
            "['I ', 'am', ' i', 'n ', 'my', ' 4', 'L,', ' I', ' a', 'm ', 'cu', 'rr', 'en', 'tl', 'y ', 'XX', ' y', 'ea', 'rs', ' o', 'f ', 'ag', 'e ', 'in', ' t', 'he', ' y', 'ea', 'r ']\n"
          ],
          "name": "stdout"
        }
      ]
    },
    {
      "cell_type": "markdown",
      "metadata": {
        "id": "edolsnTD0HuO"
      },
      "source": [
        "### Alternation\n",
        "\n",
        "- We know that in Character classes, each string inside the square brackets are alternatives to each other, which is a limitation.\n",
        "- With alternation, multiple strings can be alternatives to each other.\n",
        "- For example, in '(com|net)', we mean 'com' or 'net'."
      ]
    },
    {
      "cell_type": "code",
      "metadata": {
        "colab": {
          "base_uri": "https://localhost:8080/"
        },
        "id": "kBO9RpE2zci7",
        "outputId": "74d00aa8-63d8-4028-9045-af4faf1a1afe"
      },
      "source": [
        "word = \"I am in my 400L, I am currently XX years of age in the year 2018. My email addresses are stanleydukor@gmail.com, stanleydukor@yahoo.com, stanleydukor@hotmail.edu\"\n",
        "regex = \"\\w+@\\w+\\.(?:com|net|org|live|edu)\" # this matches email addresses\n",
        "result = re.findall(regex, word) # returns all of the matches as a list\n",
        "print(result)"
      ],
      "execution_count": null,
      "outputs": [
        {
          "output_type": "stream",
          "text": [
            "['stanleydukor@gmail.com', 'stanleydukor@yahoo.com', 'stanleydukor@hotmail.edu']\n"
          ],
          "name": "stdout"
        }
      ]
    },
    {
      "cell_type": "markdown",
      "metadata": {
        "id": "lPbMXJlf2b2x"
      },
      "source": [
        "> ## Capturing Groups\n",
        "\n",
        "\n",
        "- Suppose we have a stringm '212-555-1234', and we want to match it, we use:\n",
        "    \"\\d{3}-(\\d{3})-(\\d{4})\"\n",
        "- Note that the whole string is automatically grouped by regex as \"GROUP 0\". \n",
        "- Also, using a bracket in this context signifies that the content of the bracket is \"Group 1\" and \"Group 2\" respectively.\n",
        "- Accessing each group is with the use of a '$' or '\\'. e.g. $1 or \\1 signifies 'GROUP 1'"
      ]
    },
    {
      "cell_type": "code",
      "metadata": {
        "colab": {
          "base_uri": "https://localhost:8080/"
        },
        "id": "G1ZcInXL2ZMS",
        "outputId": "3cf3d87f-45a6-4f6e-da3a-0ed555223313"
      },
      "source": [
        "word = \"These are some phone numbers 917-555-1234. Also, you can call me at 646.555.1234 and of course I'm always reachable at (212)867-5509\"\n",
        "\n",
        "regex = \"\\(?\\d{3}[-.)]\\d{3}[-.]\\d{4}\" # this matches phone numbers\n",
        "result = re.findall(regex, word) # returns all of the matches as a list\n",
        "\n",
        "print(result)"
      ],
      "execution_count": null,
      "outputs": [
        {
          "output_type": "stream",
          "text": [
            "['917-555-1234', '646.555.1234', '(212)867-5509']\n"
          ],
          "name": "stdout"
        }
      ]
    },
    {
      "cell_type": "code",
      "metadata": {
        "colab": {
          "base_uri": "https://localhost:8080/"
        },
        "id": "qBPe5h4m3BFc",
        "outputId": "f77fbe9a-fcd5-4954-cbfe-ba834b59a93f"
      },
      "source": [
        "word = \"[Google](http://google.com), [test] \\n [itp](http:itp.nyu.edu)\"\n",
        "\n",
        "regex = \"\\[.*?\\]\\(http.*?\\)\" # ? matches the name of a link and the link itself\n",
        "result = re.findall(regex, word) # returns all of the matches as a list\n",
        "\n",
        "print(result)"
      ],
      "execution_count": null,
      "outputs": [
        {
          "output_type": "stream",
          "text": [
            "['[Google](http://google.com)', '[itp](http:itp.nyu.edu)']\n"
          ],
          "name": "stdout"
        }
      ]
    },
    {
      "cell_type": "markdown",
      "metadata": {
        "id": "qrgQAAzZ3-dR"
      },
      "source": [
        "- To replace with the name of the link and the link itself in an html format, we first group them (i.e. \"\\[(.*?)\\]\\((http.*?)\\)\" "
      ]
    },
    {
      "cell_type": "code",
      "metadata": {
        "colab": {
          "base_uri": "https://localhost:8080/"
        },
        "id": "SFVmTgVs4Cyp",
        "outputId": "4a3d7799-7d02-4f8c-bb19-7787ab43156c"
      },
      "source": [
        "word = \"2017-07-05 16:04:18.000000\"\n",
        "\n",
        "regex = \"\\d{4}-\\d{2}-\\d{2}\\s+\\d{2}:\\d{2}:\\d{2}\"\n",
        "result = re.findall(regex, word) # returns all of the matches as a list\n",
        "\n",
        "print(result)"
      ],
      "execution_count": null,
      "outputs": [
        {
          "output_type": "stream",
          "text": [
            "['2017-07-05 16:04:18']\n"
          ],
          "name": "stdout"
        }
      ]
    },
    {
      "cell_type": "markdown",
      "metadata": {
        "id": "fAWMXj3u4-rn"
      },
      "source": [
        "### re.sub"
      ]
    },
    {
      "cell_type": "code",
      "metadata": {
        "colab": {
          "base_uri": "https://localhost:8080/"
        },
        "id": "kOfTqvHB4Khd",
        "outputId": "e2b877fc-6921-4f0d-a114-fd7575528d0d"
      },
      "source": [
        "print(re.sub('vegetables', 'pie', 'I would like some vegetables.'))"
      ],
      "execution_count": null,
      "outputs": [
        {
          "output_type": "stream",
          "text": [
            "I would like some pie.\n"
          ],
          "name": "stdout"
        }
      ]
    },
    {
      "cell_type": "code",
      "metadata": {
        "colab": {
          "base_uri": "https://localhost:8080/"
        },
        "id": "CuiZSLyG5LQ1",
        "outputId": "ce47511a-83c7-47ab-8407-4fcaabdf04ae"
      },
      "source": [
        "veggie_request = 'I would like some vegetables, vitamins, and water.'\n",
        "\n",
        "print(re.sub('vegetables|vitamins|water', 'pie', veggie_request))"
      ],
      "execution_count": null,
      "outputs": [
        {
          "output_type": "stream",
          "text": [
            "I would like some pie, pie, and pie.\n"
          ],
          "name": "stdout"
        }
      ]
    },
    {
      "cell_type": "code",
      "metadata": {
        "colab": {
          "base_uri": "https://localhost:8080/"
        },
        "id": "ZsFSD1ZU5msY",
        "outputId": "4d49fd8e-86c9-41a8-af1d-79f31687e6b3"
      },
      "source": [
        "messy_phone_number = '(123) 456-7890'\n",
        "print(re.sub(r'\\D', '', messy_phone_number)) # /D matches all non digit characters"
      ],
      "execution_count": null,
      "outputs": [
        {
          "output_type": "stream",
          "text": [
            "1234567890\n"
          ],
          "name": "stdout"
        }
      ]
    },
    {
      "cell_type": "code",
      "metadata": {
        "id": "q9BVx4rA6PCn"
      },
      "source": [
        ""
      ],
      "execution_count": null,
      "outputs": []
    }
  ]
}